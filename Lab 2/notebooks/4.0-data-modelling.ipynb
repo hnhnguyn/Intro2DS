{
 "cells": [
  {
   "cell_type": "markdown",
   "metadata": {},
   "source": [
    "<div style=\"text-align: center; background-color: #559cff; font-family: 'Trebuchet MS', Arial, sans-serif; color: white; padding: 20px; font-size: 40px; font-weight: bold; border-radius: 0 0 0 0; box-shadow: 0px 6px 8px rgba(0, 0, 0, 0.2);\">\n",
    "  Lab 02 - Introduction To Data Science @ FIT-HCMUS, VNU-HCM 📌\n",
    "</div>"
   ]
  },
  {
   "cell_type": "markdown",
   "metadata": {},
   "source": [
    "<div style=\"text-align: center; background-color: #b1d1ff; font-family: 'Trebuchet MS', Arial, sans-serif; color: white; padding: 20px; font-size: 40px; font-weight: bold; border-radius: 0 0 0 0; box-shadow: 0px 6px 8px rgba(0, 0, 0, 0.2);\">\n",
    "  Stage 4.0 - Data modelling\n",
    "</div>"
   ]
  },
  {
   "cell_type": "markdown",
   "metadata": {},
   "source": [
    "This section for bonus, you might need to use some basic Machine Learning algorithms to answer some questions that in cases of regression, and classification. In this scope of this subject, highly recommend you use `scikit-learn` (instead of implement once again these algorithms)"
   ]
  },
  {
   "cell_type": "markdown",
   "metadata": {},
   "source": [
    "## Import"
   ]
  },
  {
   "cell_type": "code",
   "execution_count": 55,
   "metadata": {},
   "outputs": [],
   "source": [
    "# YOUR CODE HERE (OPTION) \n",
    "# If you need other libraries, you can import them here\n",
    "import os\n",
    "import sys\n",
    "\n",
    "module_path = os.path.abspath(os.path.join('..'))\n",
    "if module_path not in sys.path:\n",
    "    sys.path.append(module_path)\n",
    "\n",
    "import numpy as np\n",
    "import pandas as pd\n",
    "\n",
    "# YOUR CODE HERE (OPTION) \n",
    "# If you need other libraries, you can import them here\n",
    "import matplotlib.pyplot as plt\n",
    "from sklearn.linear_model import LinearRegression\n",
    "from sklearn.model_selection import train_test_split\n",
    "from sklearn.tree import DecisionTreeRegressor"
   ]
  },
  {
   "cell_type": "markdown",
   "metadata": {},
   "source": [
    "## Data preparation"
   ]
  },
  {
   "cell_type": "code",
   "execution_count": 56,
   "metadata": {},
   "outputs": [
    {
     "data": {
      "text/html": [
       "<div>\n",
       "<style scoped>\n",
       "    .dataframe tbody tr th:only-of-type {\n",
       "        vertical-align: middle;\n",
       "    }\n",
       "\n",
       "    .dataframe tbody tr th {\n",
       "        vertical-align: top;\n",
       "    }\n",
       "\n",
       "    .dataframe thead th {\n",
       "        text-align: right;\n",
       "    }\n",
       "</style>\n",
       "<table border=\"1\" class=\"dataframe\">\n",
       "  <thead>\n",
       "    <tr style=\"text-align: right;\">\n",
       "      <th></th>\n",
       "      <th>Total Population</th>\n",
       "      <th>Death Rate</th>\n",
       "      <th>Compulsory Education Dur.</th>\n",
       "      <th>Employment in Industry(%)</th>\n",
       "      <th>Unemployment(%)</th>\n",
       "      <th>GDP in USD</th>\n",
       "      <th>National Income per Capita</th>\n",
       "      <th>Net income from Abroad</th>\n",
       "      <th>Agriculture value added(in USD)</th>\n",
       "      <th>Electric Power Consumption(kWH per capita)</th>\n",
       "      <th>Fossil Fuel Consumption (%)</th>\n",
       "      <th>Male life expectancy</th>\n",
       "      <th>School enrollment, primary</th>\n",
       "      <th>School enrollment, tertiary</th>\n",
       "      <th>Primary completion rate</th>\n",
       "      <th>Literacy rate</th>\n",
       "      <th>Year</th>\n",
       "    </tr>\n",
       "  </thead>\n",
       "  <tbody>\n",
       "    <tr>\n",
       "      <th>0</th>\n",
       "      <td>93763.0</td>\n",
       "      <td>6.828165</td>\n",
       "      <td>11.000000</td>\n",
       "      <td>20.153997</td>\n",
       "      <td>8.449662</td>\n",
       "      <td>1.757604e+09</td>\n",
       "      <td>1.521022</td>\n",
       "      <td>-5.804818e+07</td>\n",
       "      <td>3.264444e+07</td>\n",
       "      <td>2620.246216</td>\n",
       "      <td>63.452255</td>\n",
       "      <td>70.19852</td>\n",
       "      <td>106.128710</td>\n",
       "      <td>39.528947</td>\n",
       "      <td>95.522408</td>\n",
       "      <td>97.105964</td>\n",
       "      <td>2022</td>\n",
       "    </tr>\n",
       "    <tr>\n",
       "      <th>1</th>\n",
       "      <td>93219.0</td>\n",
       "      <td>6.365000</td>\n",
       "      <td>11.000000</td>\n",
       "      <td>20.153997</td>\n",
       "      <td>8.449662</td>\n",
       "      <td>1.560519e+09</td>\n",
       "      <td>1.521022</td>\n",
       "      <td>-6.324747e+07</td>\n",
       "      <td>3.097037e+07</td>\n",
       "      <td>2620.246216</td>\n",
       "      <td>63.452255</td>\n",
       "      <td>75.77500</td>\n",
       "      <td>106.128710</td>\n",
       "      <td>39.528947</td>\n",
       "      <td>95.522408</td>\n",
       "      <td>97.105964</td>\n",
       "      <td>2021</td>\n",
       "    </tr>\n",
       "    <tr>\n",
       "      <th>2</th>\n",
       "      <td>92664.0</td>\n",
       "      <td>5.961000</td>\n",
       "      <td>11.000000</td>\n",
       "      <td>20.153997</td>\n",
       "      <td>8.449662</td>\n",
       "      <td>1.416348e+09</td>\n",
       "      <td>1.521022</td>\n",
       "      <td>-1.997002e+07</td>\n",
       "      <td>3.034074e+07</td>\n",
       "      <td>2620.246216</td>\n",
       "      <td>63.452255</td>\n",
       "      <td>76.06100</td>\n",
       "      <td>106.128710</td>\n",
       "      <td>39.528947</td>\n",
       "      <td>95.522408</td>\n",
       "      <td>97.105964</td>\n",
       "      <td>2020</td>\n",
       "    </tr>\n",
       "    <tr>\n",
       "      <th>3</th>\n",
       "      <td>92117.0</td>\n",
       "      <td>5.865000</td>\n",
       "      <td>11.000000</td>\n",
       "      <td>20.153997</td>\n",
       "      <td>8.449662</td>\n",
       "      <td>1.675404e+09</td>\n",
       "      <td>1.521022</td>\n",
       "      <td>-8.027231e+07</td>\n",
       "      <td>2.925185e+07</td>\n",
       "      <td>2620.246216</td>\n",
       "      <td>63.452255</td>\n",
       "      <td>75.90900</td>\n",
       "      <td>112.122238</td>\n",
       "      <td>39.528947</td>\n",
       "      <td>104.976669</td>\n",
       "      <td>97.105964</td>\n",
       "      <td>2019</td>\n",
       "    </tr>\n",
       "    <tr>\n",
       "      <th>4</th>\n",
       "      <td>91626.0</td>\n",
       "      <td>5.787000</td>\n",
       "      <td>11.000000</td>\n",
       "      <td>20.153997</td>\n",
       "      <td>8.449662</td>\n",
       "      <td>1.604770e+09</td>\n",
       "      <td>1.521022</td>\n",
       "      <td>-8.022693e+07</td>\n",
       "      <td>2.787778e+07</td>\n",
       "      <td>2620.246216</td>\n",
       "      <td>63.452255</td>\n",
       "      <td>75.72400</td>\n",
       "      <td>112.091682</td>\n",
       "      <td>39.528947</td>\n",
       "      <td>104.444443</td>\n",
       "      <td>97.105964</td>\n",
       "      <td>2018</td>\n",
       "    </tr>\n",
       "    <tr>\n",
       "      <th>...</th>\n",
       "      <td>...</td>\n",
       "      <td>...</td>\n",
       "      <td>...</td>\n",
       "      <td>...</td>\n",
       "      <td>...</td>\n",
       "      <td>...</td>\n",
       "      <td>...</td>\n",
       "      <td>...</td>\n",
       "      <td>...</td>\n",
       "      <td>...</td>\n",
       "      <td>...</td>\n",
       "      <td>...</td>\n",
       "      <td>...</td>\n",
       "      <td>...</td>\n",
       "      <td>...</td>\n",
       "      <td>...</td>\n",
       "      <td>...</td>\n",
       "    </tr>\n",
       "    <tr>\n",
       "      <th>1199</th>\n",
       "      <td>108599.0</td>\n",
       "      <td>5.300000</td>\n",
       "      <td>10.879921</td>\n",
       "      <td>24.166380</td>\n",
       "      <td>10.923000</td>\n",
       "      <td>5.000622e+11</td>\n",
       "      <td>1.521022</td>\n",
       "      <td>-6.977767e+08</td>\n",
       "      <td>9.465944e+09</td>\n",
       "      <td>2620.246216</td>\n",
       "      <td>63.452255</td>\n",
       "      <td>68.51100</td>\n",
       "      <td>106.128710</td>\n",
       "      <td>39.528947</td>\n",
       "      <td>95.522408</td>\n",
       "      <td>97.105964</td>\n",
       "      <td>1999</td>\n",
       "    </tr>\n",
       "    <tr>\n",
       "      <th>1200</th>\n",
       "      <td>108537.0</td>\n",
       "      <td>5.000000</td>\n",
       "      <td>10.879921</td>\n",
       "      <td>24.426560</td>\n",
       "      <td>11.300000</td>\n",
       "      <td>5.000622e+11</td>\n",
       "      <td>1.521022</td>\n",
       "      <td>-6.977767e+08</td>\n",
       "      <td>9.465944e+09</td>\n",
       "      <td>2620.246216</td>\n",
       "      <td>63.452255</td>\n",
       "      <td>68.63900</td>\n",
       "      <td>106.128710</td>\n",
       "      <td>39.528947</td>\n",
       "      <td>95.522408</td>\n",
       "      <td>97.105964</td>\n",
       "      <td>1998</td>\n",
       "    </tr>\n",
       "    <tr>\n",
       "      <th>1201</th>\n",
       "      <td>108357.0</td>\n",
       "      <td>5.300000</td>\n",
       "      <td>10.879921</td>\n",
       "      <td>24.669030</td>\n",
       "      <td>11.543000</td>\n",
       "      <td>5.000622e+11</td>\n",
       "      <td>1.521022</td>\n",
       "      <td>-6.977767e+08</td>\n",
       "      <td>9.465944e+09</td>\n",
       "      <td>2620.246216</td>\n",
       "      <td>63.452255</td>\n",
       "      <td>68.39500</td>\n",
       "      <td>106.128710</td>\n",
       "      <td>39.528947</td>\n",
       "      <td>95.522408</td>\n",
       "      <td>97.105964</td>\n",
       "      <td>1997</td>\n",
       "    </tr>\n",
       "    <tr>\n",
       "      <th>1202</th>\n",
       "      <td>108095.0</td>\n",
       "      <td>5.200000</td>\n",
       "      <td>10.879921</td>\n",
       "      <td>24.836600</td>\n",
       "      <td>11.734000</td>\n",
       "      <td>5.000622e+11</td>\n",
       "      <td>1.521022</td>\n",
       "      <td>-6.977767e+08</td>\n",
       "      <td>9.465944e+09</td>\n",
       "      <td>2620.246216</td>\n",
       "      <td>63.452255</td>\n",
       "      <td>68.88000</td>\n",
       "      <td>106.128710</td>\n",
       "      <td>39.528947</td>\n",
       "      <td>95.522408</td>\n",
       "      <td>97.105964</td>\n",
       "      <td>1996</td>\n",
       "    </tr>\n",
       "    <tr>\n",
       "      <th>1203</th>\n",
       "      <td>107818.0</td>\n",
       "      <td>5.025000</td>\n",
       "      <td>10.879921</td>\n",
       "      <td>25.019570</td>\n",
       "      <td>11.832000</td>\n",
       "      <td>5.000622e+11</td>\n",
       "      <td>1.521022</td>\n",
       "      <td>-6.977767e+08</td>\n",
       "      <td>9.465944e+09</td>\n",
       "      <td>2620.246216</td>\n",
       "      <td>63.452255</td>\n",
       "      <td>68.60900</td>\n",
       "      <td>106.128710</td>\n",
       "      <td>39.528947</td>\n",
       "      <td>95.522408</td>\n",
       "      <td>97.105964</td>\n",
       "      <td>1995</td>\n",
       "    </tr>\n",
       "  </tbody>\n",
       "</table>\n",
       "<p>1204 rows × 17 columns</p>\n",
       "</div>"
      ],
      "text/plain": [
       "      Total Population  Death Rate  Compulsory Education Dur.  \\\n",
       "0              93763.0    6.828165                  11.000000   \n",
       "1              93219.0    6.365000                  11.000000   \n",
       "2              92664.0    5.961000                  11.000000   \n",
       "3              92117.0    5.865000                  11.000000   \n",
       "4              91626.0    5.787000                  11.000000   \n",
       "...                ...         ...                        ...   \n",
       "1199          108599.0    5.300000                  10.879921   \n",
       "1200          108537.0    5.000000                  10.879921   \n",
       "1201          108357.0    5.300000                  10.879921   \n",
       "1202          108095.0    5.200000                  10.879921   \n",
       "1203          107818.0    5.025000                  10.879921   \n",
       "\n",
       "      Employment in Industry(%)  Unemployment(%)    GDP in USD  \\\n",
       "0                     20.153997         8.449662  1.757604e+09   \n",
       "1                     20.153997         8.449662  1.560519e+09   \n",
       "2                     20.153997         8.449662  1.416348e+09   \n",
       "3                     20.153997         8.449662  1.675404e+09   \n",
       "4                     20.153997         8.449662  1.604770e+09   \n",
       "...                         ...              ...           ...   \n",
       "1199                  24.166380        10.923000  5.000622e+11   \n",
       "1200                  24.426560        11.300000  5.000622e+11   \n",
       "1201                  24.669030        11.543000  5.000622e+11   \n",
       "1202                  24.836600        11.734000  5.000622e+11   \n",
       "1203                  25.019570        11.832000  5.000622e+11   \n",
       "\n",
       "      National Income per Capita  Net income from Abroad  \\\n",
       "0                       1.521022           -5.804818e+07   \n",
       "1                       1.521022           -6.324747e+07   \n",
       "2                       1.521022           -1.997002e+07   \n",
       "3                       1.521022           -8.027231e+07   \n",
       "4                       1.521022           -8.022693e+07   \n",
       "...                          ...                     ...   \n",
       "1199                    1.521022           -6.977767e+08   \n",
       "1200                    1.521022           -6.977767e+08   \n",
       "1201                    1.521022           -6.977767e+08   \n",
       "1202                    1.521022           -6.977767e+08   \n",
       "1203                    1.521022           -6.977767e+08   \n",
       "\n",
       "      Agriculture value added(in USD)  \\\n",
       "0                        3.264444e+07   \n",
       "1                        3.097037e+07   \n",
       "2                        3.034074e+07   \n",
       "3                        2.925185e+07   \n",
       "4                        2.787778e+07   \n",
       "...                               ...   \n",
       "1199                     9.465944e+09   \n",
       "1200                     9.465944e+09   \n",
       "1201                     9.465944e+09   \n",
       "1202                     9.465944e+09   \n",
       "1203                     9.465944e+09   \n",
       "\n",
       "      Electric Power Consumption(kWH per capita)  Fossil Fuel Consumption (%)  \\\n",
       "0                                    2620.246216                    63.452255   \n",
       "1                                    2620.246216                    63.452255   \n",
       "2                                    2620.246216                    63.452255   \n",
       "3                                    2620.246216                    63.452255   \n",
       "4                                    2620.246216                    63.452255   \n",
       "...                                          ...                          ...   \n",
       "1199                                 2620.246216                    63.452255   \n",
       "1200                                 2620.246216                    63.452255   \n",
       "1201                                 2620.246216                    63.452255   \n",
       "1202                                 2620.246216                    63.452255   \n",
       "1203                                 2620.246216                    63.452255   \n",
       "\n",
       "      Male life expectancy  School enrollment, primary  \\\n",
       "0                 70.19852                  106.128710   \n",
       "1                 75.77500                  106.128710   \n",
       "2                 76.06100                  106.128710   \n",
       "3                 75.90900                  112.122238   \n",
       "4                 75.72400                  112.091682   \n",
       "...                    ...                         ...   \n",
       "1199              68.51100                  106.128710   \n",
       "1200              68.63900                  106.128710   \n",
       "1201              68.39500                  106.128710   \n",
       "1202              68.88000                  106.128710   \n",
       "1203              68.60900                  106.128710   \n",
       "\n",
       "      School enrollment, tertiary  Primary completion rate  Literacy rate  \\\n",
       "0                       39.528947                95.522408      97.105964   \n",
       "1                       39.528947                95.522408      97.105964   \n",
       "2                       39.528947                95.522408      97.105964   \n",
       "3                       39.528947               104.976669      97.105964   \n",
       "4                       39.528947               104.444443      97.105964   \n",
       "...                           ...                      ...            ...   \n",
       "1199                    39.528947                95.522408      97.105964   \n",
       "1200                    39.528947                95.522408      97.105964   \n",
       "1201                    39.528947                95.522408      97.105964   \n",
       "1202                    39.528947                95.522408      97.105964   \n",
       "1203                    39.528947                95.522408      97.105964   \n",
       "\n",
       "      Year  \n",
       "0     2022  \n",
       "1     2021  \n",
       "2     2020  \n",
       "3     2019  \n",
       "4     2018  \n",
       "...    ...  \n",
       "1199  1999  \n",
       "1200  1998  \n",
       "1201  1997  \n",
       "1202  1996  \n",
       "1203  1995  \n",
       "\n",
       "[1204 rows x 17 columns]"
      ]
     },
     "execution_count": 56,
     "metadata": {},
     "output_type": "execute_result"
    }
   ],
   "source": [
    "# YOUR CODE HERE (OPTION) \n",
    "df = pd.read_csv(\"../data/processed/21127503_americas_eda.csv\")\n",
    "\n",
    "df"
   ]
  },
  {
   "cell_type": "markdown",
   "metadata": {},
   "source": [
    "## Feature engineering"
   ]
  },
  {
   "cell_type": "code",
   "execution_count": null,
   "metadata": {},
   "outputs": [],
   "source": [
    "# YOUR CODE HERE (OPTION) "
   ]
  },
  {
   "cell_type": "markdown",
   "metadata": {},
   "source": [
    "## Training model"
   ]
  },
  {
   "cell_type": "code",
   "execution_count": null,
   "metadata": {},
   "outputs": [],
   "source": [
    "# YOUR CODE HERE (OPTION) "
   ]
  },
  {
   "cell_type": "code",
   "execution_count": 57,
   "metadata": {},
   "outputs": [],
   "source": [
    "X = df.iloc[:, 1:]\n",
    "y = df.iloc[:, 1]"
   ]
  },
  {
   "cell_type": "code",
   "execution_count": 58,
   "metadata": {},
   "outputs": [],
   "source": [
    "X_train, X_test, y_train, y_test = train_test_split(X, y, test_size=0.3, random_state=42)"
   ]
  },
  {
   "cell_type": "markdown",
   "metadata": {},
   "source": [
    "## Evaluation"
   ]
  },
  {
   "cell_type": "code",
   "execution_count": 51,
   "metadata": {},
   "outputs": [],
   "source": [
    "# YOUR CODE HERE (OPTION) "
   ]
  },
  {
   "cell_type": "code",
   "execution_count": 59,
   "metadata": {},
   "outputs": [
    {
     "data": {
      "text/html": [
       "<style>#sk-container-id-4 {color: black;}#sk-container-id-4 pre{padding: 0;}#sk-container-id-4 div.sk-toggleable {background-color: white;}#sk-container-id-4 label.sk-toggleable__label {cursor: pointer;display: block;width: 100%;margin-bottom: 0;padding: 0.3em;box-sizing: border-box;text-align: center;}#sk-container-id-4 label.sk-toggleable__label-arrow:before {content: \"▸\";float: left;margin-right: 0.25em;color: #696969;}#sk-container-id-4 label.sk-toggleable__label-arrow:hover:before {color: black;}#sk-container-id-4 div.sk-estimator:hover label.sk-toggleable__label-arrow:before {color: black;}#sk-container-id-4 div.sk-toggleable__content {max-height: 0;max-width: 0;overflow: hidden;text-align: left;background-color: #f0f8ff;}#sk-container-id-4 div.sk-toggleable__content pre {margin: 0.2em;color: black;border-radius: 0.25em;background-color: #f0f8ff;}#sk-container-id-4 input.sk-toggleable__control:checked~div.sk-toggleable__content {max-height: 200px;max-width: 100%;overflow: auto;}#sk-container-id-4 input.sk-toggleable__control:checked~label.sk-toggleable__label-arrow:before {content: \"▾\";}#sk-container-id-4 div.sk-estimator input.sk-toggleable__control:checked~label.sk-toggleable__label {background-color: #d4ebff;}#sk-container-id-4 div.sk-label input.sk-toggleable__control:checked~label.sk-toggleable__label {background-color: #d4ebff;}#sk-container-id-4 input.sk-hidden--visually {border: 0;clip: rect(1px 1px 1px 1px);clip: rect(1px, 1px, 1px, 1px);height: 1px;margin: -1px;overflow: hidden;padding: 0;position: absolute;width: 1px;}#sk-container-id-4 div.sk-estimator {font-family: monospace;background-color: #f0f8ff;border: 1px dotted black;border-radius: 0.25em;box-sizing: border-box;margin-bottom: 0.5em;}#sk-container-id-4 div.sk-estimator:hover {background-color: #d4ebff;}#sk-container-id-4 div.sk-parallel-item::after {content: \"\";width: 100%;border-bottom: 1px solid gray;flex-grow: 1;}#sk-container-id-4 div.sk-label:hover label.sk-toggleable__label {background-color: #d4ebff;}#sk-container-id-4 div.sk-serial::before {content: \"\";position: absolute;border-left: 1px solid gray;box-sizing: border-box;top: 0;bottom: 0;left: 50%;z-index: 0;}#sk-container-id-4 div.sk-serial {display: flex;flex-direction: column;align-items: center;background-color: white;padding-right: 0.2em;padding-left: 0.2em;position: relative;}#sk-container-id-4 div.sk-item {position: relative;z-index: 1;}#sk-container-id-4 div.sk-parallel {display: flex;align-items: stretch;justify-content: center;background-color: white;position: relative;}#sk-container-id-4 div.sk-item::before, #sk-container-id-4 div.sk-parallel-item::before {content: \"\";position: absolute;border-left: 1px solid gray;box-sizing: border-box;top: 0;bottom: 0;left: 50%;z-index: -1;}#sk-container-id-4 div.sk-parallel-item {display: flex;flex-direction: column;z-index: 1;position: relative;background-color: white;}#sk-container-id-4 div.sk-parallel-item:first-child::after {align-self: flex-end;width: 50%;}#sk-container-id-4 div.sk-parallel-item:last-child::after {align-self: flex-start;width: 50%;}#sk-container-id-4 div.sk-parallel-item:only-child::after {width: 0;}#sk-container-id-4 div.sk-dashed-wrapped {border: 1px dashed gray;margin: 0 0.4em 0.5em 0.4em;box-sizing: border-box;padding-bottom: 0.4em;background-color: white;}#sk-container-id-4 div.sk-label label {font-family: monospace;font-weight: bold;display: inline-block;line-height: 1.2em;}#sk-container-id-4 div.sk-label-container {text-align: center;}#sk-container-id-4 div.sk-container {/* jupyter's `normalize.less` sets `[hidden] { display: none; }` but bootstrap.min.css set `[hidden] { display: none !important; }` so we also need the `!important` here to be able to override the default hidden behavior on the sphinx rendered scikit-learn.org. See: https://github.com/scikit-learn/scikit-learn/issues/21755 */display: inline-block !important;position: relative;}#sk-container-id-4 div.sk-text-repr-fallback {display: none;}</style><div id=\"sk-container-id-4\" class=\"sk-top-container\"><div class=\"sk-text-repr-fallback\"><pre>LinearRegression()</pre><b>In a Jupyter environment, please rerun this cell to show the HTML representation or trust the notebook. <br />On GitHub, the HTML representation is unable to render, please try loading this page with nbviewer.org.</b></div><div class=\"sk-container\" hidden><div class=\"sk-item\"><div class=\"sk-estimator sk-toggleable\"><input class=\"sk-toggleable__control sk-hidden--visually\" id=\"sk-estimator-id-4\" type=\"checkbox\" checked><label for=\"sk-estimator-id-4\" class=\"sk-toggleable__label sk-toggleable__label-arrow\">LinearRegression</label><div class=\"sk-toggleable__content\"><pre>LinearRegression()</pre></div></div></div></div></div>"
      ],
      "text/plain": [
       "LinearRegression()"
      ]
     },
     "execution_count": 59,
     "metadata": {},
     "output_type": "execute_result"
    }
   ],
   "source": [
    "model1 = LinearRegression()\n",
    "\n",
    "model1.fit(X_train, y_train)"
   ]
  },
  {
   "cell_type": "code",
   "execution_count": 60,
   "metadata": {},
   "outputs": [
    {
     "name": "stdout",
     "output_type": "stream",
     "text": [
      "coefficient of determination: 1.0\n"
     ]
    }
   ],
   "source": [
    "r_sq = model1.score(X_train, y_train)\n",
    "print(f\"coefficient of determination: {r_sq}\")"
   ]
  },
  {
   "cell_type": "code",
   "execution_count": 61,
   "metadata": {},
   "outputs": [
    {
     "data": {
      "text/html": [
       "<style>#sk-container-id-5 {color: black;}#sk-container-id-5 pre{padding: 0;}#sk-container-id-5 div.sk-toggleable {background-color: white;}#sk-container-id-5 label.sk-toggleable__label {cursor: pointer;display: block;width: 100%;margin-bottom: 0;padding: 0.3em;box-sizing: border-box;text-align: center;}#sk-container-id-5 label.sk-toggleable__label-arrow:before {content: \"▸\";float: left;margin-right: 0.25em;color: #696969;}#sk-container-id-5 label.sk-toggleable__label-arrow:hover:before {color: black;}#sk-container-id-5 div.sk-estimator:hover label.sk-toggleable__label-arrow:before {color: black;}#sk-container-id-5 div.sk-toggleable__content {max-height: 0;max-width: 0;overflow: hidden;text-align: left;background-color: #f0f8ff;}#sk-container-id-5 div.sk-toggleable__content pre {margin: 0.2em;color: black;border-radius: 0.25em;background-color: #f0f8ff;}#sk-container-id-5 input.sk-toggleable__control:checked~div.sk-toggleable__content {max-height: 200px;max-width: 100%;overflow: auto;}#sk-container-id-5 input.sk-toggleable__control:checked~label.sk-toggleable__label-arrow:before {content: \"▾\";}#sk-container-id-5 div.sk-estimator input.sk-toggleable__control:checked~label.sk-toggleable__label {background-color: #d4ebff;}#sk-container-id-5 div.sk-label input.sk-toggleable__control:checked~label.sk-toggleable__label {background-color: #d4ebff;}#sk-container-id-5 input.sk-hidden--visually {border: 0;clip: rect(1px 1px 1px 1px);clip: rect(1px, 1px, 1px, 1px);height: 1px;margin: -1px;overflow: hidden;padding: 0;position: absolute;width: 1px;}#sk-container-id-5 div.sk-estimator {font-family: monospace;background-color: #f0f8ff;border: 1px dotted black;border-radius: 0.25em;box-sizing: border-box;margin-bottom: 0.5em;}#sk-container-id-5 div.sk-estimator:hover {background-color: #d4ebff;}#sk-container-id-5 div.sk-parallel-item::after {content: \"\";width: 100%;border-bottom: 1px solid gray;flex-grow: 1;}#sk-container-id-5 div.sk-label:hover label.sk-toggleable__label {background-color: #d4ebff;}#sk-container-id-5 div.sk-serial::before {content: \"\";position: absolute;border-left: 1px solid gray;box-sizing: border-box;top: 0;bottom: 0;left: 50%;z-index: 0;}#sk-container-id-5 div.sk-serial {display: flex;flex-direction: column;align-items: center;background-color: white;padding-right: 0.2em;padding-left: 0.2em;position: relative;}#sk-container-id-5 div.sk-item {position: relative;z-index: 1;}#sk-container-id-5 div.sk-parallel {display: flex;align-items: stretch;justify-content: center;background-color: white;position: relative;}#sk-container-id-5 div.sk-item::before, #sk-container-id-5 div.sk-parallel-item::before {content: \"\";position: absolute;border-left: 1px solid gray;box-sizing: border-box;top: 0;bottom: 0;left: 50%;z-index: -1;}#sk-container-id-5 div.sk-parallel-item {display: flex;flex-direction: column;z-index: 1;position: relative;background-color: white;}#sk-container-id-5 div.sk-parallel-item:first-child::after {align-self: flex-end;width: 50%;}#sk-container-id-5 div.sk-parallel-item:last-child::after {align-self: flex-start;width: 50%;}#sk-container-id-5 div.sk-parallel-item:only-child::after {width: 0;}#sk-container-id-5 div.sk-dashed-wrapped {border: 1px dashed gray;margin: 0 0.4em 0.5em 0.4em;box-sizing: border-box;padding-bottom: 0.4em;background-color: white;}#sk-container-id-5 div.sk-label label {font-family: monospace;font-weight: bold;display: inline-block;line-height: 1.2em;}#sk-container-id-5 div.sk-label-container {text-align: center;}#sk-container-id-5 div.sk-container {/* jupyter's `normalize.less` sets `[hidden] { display: none; }` but bootstrap.min.css set `[hidden] { display: none !important; }` so we also need the `!important` here to be able to override the default hidden behavior on the sphinx rendered scikit-learn.org. See: https://github.com/scikit-learn/scikit-learn/issues/21755 */display: inline-block !important;position: relative;}#sk-container-id-5 div.sk-text-repr-fallback {display: none;}</style><div id=\"sk-container-id-5\" class=\"sk-top-container\"><div class=\"sk-text-repr-fallback\"><pre>DecisionTreeRegressor(random_state=0)</pre><b>In a Jupyter environment, please rerun this cell to show the HTML representation or trust the notebook. <br />On GitHub, the HTML representation is unable to render, please try loading this page with nbviewer.org.</b></div><div class=\"sk-container\" hidden><div class=\"sk-item\"><div class=\"sk-estimator sk-toggleable\"><input class=\"sk-toggleable__control sk-hidden--visually\" id=\"sk-estimator-id-5\" type=\"checkbox\" checked><label for=\"sk-estimator-id-5\" class=\"sk-toggleable__label sk-toggleable__label-arrow\">DecisionTreeRegressor</label><div class=\"sk-toggleable__content\"><pre>DecisionTreeRegressor(random_state=0)</pre></div></div></div></div></div>"
      ],
      "text/plain": [
       "DecisionTreeRegressor(random_state=0)"
      ]
     },
     "execution_count": 61,
     "metadata": {},
     "output_type": "execute_result"
    }
   ],
   "source": [
    "model2 = DecisionTreeRegressor(random_state = 0)  \n",
    "\n",
    "model2.fit(X, y) "
   ]
  },
  {
   "cell_type": "markdown",
   "metadata": {},
   "source": [
    "## Prediction"
   ]
  },
  {
   "cell_type": "code",
   "execution_count": null,
   "metadata": {},
   "outputs": [],
   "source": [
    "# YOUR CODE HERE (OPTION) "
   ]
  },
  {
   "cell_type": "code",
   "execution_count": 62,
   "metadata": {},
   "outputs": [],
   "source": [
    "y_pred1 = model1.predict(X_test)"
   ]
  },
  {
   "cell_type": "code",
   "execution_count": 63,
   "metadata": {},
   "outputs": [],
   "source": [
    "y_pred2 = model2.predict(X_test)"
   ]
  },
  {
   "cell_type": "markdown",
   "metadata": {},
   "source": [
    "## Results analysis"
   ]
  },
  {
   "cell_type": "code",
   "execution_count": 64,
   "metadata": {},
   "outputs": [
    {
     "name": "stdout",
     "output_type": "stream",
     "text": [
      "Linear Regression:\n",
      "1.1798123069055913e-27\n",
      "Decision Tree Regression:\n",
      "1.0770566364792407e-30\n"
     ]
    }
   ],
   "source": [
    "# YOUR CODE HERE (OPTION) \n",
    "\n",
    "print(\"Linear Regression:\")\n",
    "MSE = np.mean((y_pred1 - y_test)**2)\n",
    "print(MSE)\n",
    "\n",
    "print(\"Decision Tree Regression:\")\n",
    "MSE = np.mean((y_pred2 - y_test)**2)\n",
    "print(MSE)"
   ]
  },
  {
   "cell_type": "markdown",
   "metadata": {},
   "source": [
    "## Conclusion"
   ]
  },
  {
   "cell_type": "markdown",
   "metadata": {},
   "source": [
    "**Your conclusion**\n",
    "\n",
    "MSE thấp cho thấy kết quả dự đoán khá tốt\n",
    "\n",
    "$R^2 = 1.0 \\to$ dữ liệu khá tốt, không bị nhiễu"
   ]
  }
 ],
 "metadata": {
  "kernelspec": {
   "display_name": "Python 3 (ipykernel)",
   "language": "python",
   "name": "python3"
  },
  "language_info": {
   "codemirror_mode": {
    "name": "ipython",
    "version": 3
   },
   "file_extension": ".py",
   "mimetype": "text/x-python",
   "name": "python",
   "nbconvert_exporter": "python",
   "pygments_lexer": "ipython3",
   "version": "3.9.18"
  }
 },
 "nbformat": 4,
 "nbformat_minor": 2
}
