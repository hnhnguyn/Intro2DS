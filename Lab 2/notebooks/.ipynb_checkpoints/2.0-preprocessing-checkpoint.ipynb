{
 "cells": [
  {
   "cell_type": "markdown",
   "metadata": {},
   "source": [
    "<div style=\"text-align: center; background-color: #559cff; font-family: 'Trebuchet MS', Arial, sans-serif; color: white; padding: 20px; font-size: 40px; font-weight: bold; border-radius: 0 0 0 0; box-shadow: 0px 6px 8px rgba(0, 0, 0, 0.2);\">\n",
    "  Lab 02 - Introduction To Data Science @ FIT-HCMUS, VNU-HCM 📌\n",
    "</div>"
   ]
  },
  {
   "cell_type": "markdown",
   "metadata": {},
   "source": [
    "<div style=\"text-align: center; background-color: #b1d1ff; font-family: 'Trebuchet MS', Arial, sans-serif; color: white; padding: 20px; font-size: 40px; font-weight: bold; border-radius: 0 0 0 0; box-shadow: 0px 6px 8px rgba(0, 0, 0, 0.2);\">\n",
    "  Stage 02 - Preprocessing\n",
    "</div>"
   ]
  },
  {
   "cell_type": "markdown",
   "metadata": {},
   "source": [
    "## Import"
   ]
  },
  {
   "cell_type": "code",
   "execution_count": 1,
   "metadata": {},
   "outputs": [],
   "source": [
    "import os\n",
    "import sys\n",
    "\n",
    "module_path = os.path.abspath(os.path.join('..'))\n",
    "if module_path not in sys.path:\n",
    "    sys.path.append(module_path)\n",
    "\n",
    "import numpy as np\n",
    "import pandas as pd\n",
    "\n",
    "# YOUR CODE HERE (OPTION) \n",
    "# If you need other libraries, you can import them here\n",
    "import matplotlib.pyplot as plt"
   ]
  },
  {
   "cell_type": "markdown",
   "metadata": {},
   "source": [
    "## Exploring your data"
   ]
  },
  {
   "cell_type": "markdown",
   "metadata": {},
   "source": [
    "### Read raw data from file (0.25 points)"
   ]
  },
  {
   "cell_type": "code",
   "execution_count": 2,
   "metadata": {},
   "outputs": [],
   "source": [
    "# YOUR CODE HERE\n",
    "raw_df = pd.read_csv(\"../data/raw/21127503_americas.csv\")"
   ]
  },
  {
   "cell_type": "code",
   "execution_count": 3,
   "metadata": {},
   "outputs": [
    {
     "data": {
      "text/html": [
       "<div>\n",
       "<style scoped>\n",
       "    .dataframe tbody tr th:only-of-type {\n",
       "        vertical-align: middle;\n",
       "    }\n",
       "\n",
       "    .dataframe tbody tr th {\n",
       "        vertical-align: top;\n",
       "    }\n",
       "\n",
       "    .dataframe thead th {\n",
       "        text-align: right;\n",
       "    }\n",
       "</style>\n",
       "<table border=\"1\" class=\"dataframe\">\n",
       "  <thead>\n",
       "    <tr style=\"text-align: right;\">\n",
       "      <th></th>\n",
       "      <th>Total Population</th>\n",
       "      <th>Female Population</th>\n",
       "      <th>Male Population</th>\n",
       "      <th>Birth Rate</th>\n",
       "      <th>Death Rate</th>\n",
       "      <th>Compulsory Education Dur.</th>\n",
       "      <th>Employment in Industry(%)</th>\n",
       "      <th>Employment in Agriculture(%)</th>\n",
       "      <th>Female Employment in Agriculture(%)</th>\n",
       "      <th>Female Employment in Industry(%)</th>\n",
       "      <th>...</th>\n",
       "      <th>Renewable Energy Consumption (%)</th>\n",
       "      <th>Fossil Fuel Consumption (%)</th>\n",
       "      <th>Male life expectancy</th>\n",
       "      <th>Female life expectancy</th>\n",
       "      <th>School enrollment, primary</th>\n",
       "      <th>School enrollment, tertiary</th>\n",
       "      <th>Primary completion rate</th>\n",
       "      <th>Literacy rate</th>\n",
       "      <th>Year</th>\n",
       "      <th>Country</th>\n",
       "    </tr>\n",
       "  </thead>\n",
       "  <tbody>\n",
       "    <tr>\n",
       "      <th>0</th>\n",
       "      <td>93763.0</td>\n",
       "      <td>48981.0</td>\n",
       "      <td>44782.0</td>\n",
       "      <td>NaN</td>\n",
       "      <td>NaN</td>\n",
       "      <td>11.0</td>\n",
       "      <td>NaN</td>\n",
       "      <td>NaN</td>\n",
       "      <td>NaN</td>\n",
       "      <td>NaN</td>\n",
       "      <td>...</td>\n",
       "      <td>NaN</td>\n",
       "      <td>NaN</td>\n",
       "      <td>NaN</td>\n",
       "      <td>NaN</td>\n",
       "      <td>NaN</td>\n",
       "      <td>NaN</td>\n",
       "      <td>NaN</td>\n",
       "      <td>NaN</td>\n",
       "      <td>2022</td>\n",
       "      <td>Antigua and Barbuda</td>\n",
       "    </tr>\n",
       "    <tr>\n",
       "      <th>1</th>\n",
       "      <td>93219.0</td>\n",
       "      <td>48709.0</td>\n",
       "      <td>44511.0</td>\n",
       "      <td>12.115</td>\n",
       "      <td>6.365</td>\n",
       "      <td>11.0</td>\n",
       "      <td>NaN</td>\n",
       "      <td>NaN</td>\n",
       "      <td>NaN</td>\n",
       "      <td>NaN</td>\n",
       "      <td>...</td>\n",
       "      <td>0.72</td>\n",
       "      <td>NaN</td>\n",
       "      <td>75.775</td>\n",
       "      <td>80.941</td>\n",
       "      <td>NaN</td>\n",
       "      <td>NaN</td>\n",
       "      <td>NaN</td>\n",
       "      <td>NaN</td>\n",
       "      <td>2021</td>\n",
       "      <td>Antigua and Barbuda</td>\n",
       "    </tr>\n",
       "    <tr>\n",
       "      <th>2</th>\n",
       "      <td>92664.0</td>\n",
       "      <td>48428.0</td>\n",
       "      <td>44236.0</td>\n",
       "      <td>12.160</td>\n",
       "      <td>5.961</td>\n",
       "      <td>11.0</td>\n",
       "      <td>NaN</td>\n",
       "      <td>NaN</td>\n",
       "      <td>NaN</td>\n",
       "      <td>NaN</td>\n",
       "      <td>...</td>\n",
       "      <td>0.74</td>\n",
       "      <td>NaN</td>\n",
       "      <td>76.061</td>\n",
       "      <td>81.316</td>\n",
       "      <td>NaN</td>\n",
       "      <td>NaN</td>\n",
       "      <td>NaN</td>\n",
       "      <td>NaN</td>\n",
       "      <td>2020</td>\n",
       "      <td>Antigua and Barbuda</td>\n",
       "    </tr>\n",
       "    <tr>\n",
       "      <th>3</th>\n",
       "      <td>92117.0</td>\n",
       "      <td>48156.0</td>\n",
       "      <td>43961.0</td>\n",
       "      <td>11.485</td>\n",
       "      <td>5.865</td>\n",
       "      <td>11.0</td>\n",
       "      <td>NaN</td>\n",
       "      <td>NaN</td>\n",
       "      <td>NaN</td>\n",
       "      <td>NaN</td>\n",
       "      <td>...</td>\n",
       "      <td>0.69</td>\n",
       "      <td>NaN</td>\n",
       "      <td>75.909</td>\n",
       "      <td>81.171</td>\n",
       "      <td>112.122238</td>\n",
       "      <td>NaN</td>\n",
       "      <td>104.976669</td>\n",
       "      <td>NaN</td>\n",
       "      <td>2019</td>\n",
       "      <td>Antigua and Barbuda</td>\n",
       "    </tr>\n",
       "    <tr>\n",
       "      <th>4</th>\n",
       "      <td>91626.0</td>\n",
       "      <td>47910.0</td>\n",
       "      <td>43715.0</td>\n",
       "      <td>10.816</td>\n",
       "      <td>5.787</td>\n",
       "      <td>11.0</td>\n",
       "      <td>NaN</td>\n",
       "      <td>NaN</td>\n",
       "      <td>NaN</td>\n",
       "      <td>NaN</td>\n",
       "      <td>...</td>\n",
       "      <td>0.70</td>\n",
       "      <td>NaN</td>\n",
       "      <td>75.724</td>\n",
       "      <td>81.000</td>\n",
       "      <td>112.091682</td>\n",
       "      <td>NaN</td>\n",
       "      <td>104.444443</td>\n",
       "      <td>NaN</td>\n",
       "      <td>2018</td>\n",
       "      <td>Antigua and Barbuda</td>\n",
       "    </tr>\n",
       "  </tbody>\n",
       "</table>\n",
       "<p>5 rows × 26 columns</p>\n",
       "</div>"
      ],
      "text/plain": [
       "   Total Population  Female Population  Male Population  Birth Rate  \\\n",
       "0           93763.0            48981.0          44782.0         NaN   \n",
       "1           93219.0            48709.0          44511.0      12.115   \n",
       "2           92664.0            48428.0          44236.0      12.160   \n",
       "3           92117.0            48156.0          43961.0      11.485   \n",
       "4           91626.0            47910.0          43715.0      10.816   \n",
       "\n",
       "   Death Rate  Compulsory Education Dur.  Employment in Industry(%)  \\\n",
       "0         NaN                       11.0                        NaN   \n",
       "1       6.365                       11.0                        NaN   \n",
       "2       5.961                       11.0                        NaN   \n",
       "3       5.865                       11.0                        NaN   \n",
       "4       5.787                       11.0                        NaN   \n",
       "\n",
       "   Employment in Agriculture(%)  Female Employment in Agriculture(%)  \\\n",
       "0                           NaN                                  NaN   \n",
       "1                           NaN                                  NaN   \n",
       "2                           NaN                                  NaN   \n",
       "3                           NaN                                  NaN   \n",
       "4                           NaN                                  NaN   \n",
       "\n",
       "   Female Employment in Industry(%)  ...  Renewable Energy Consumption (%)  \\\n",
       "0                               NaN  ...                               NaN   \n",
       "1                               NaN  ...                              0.72   \n",
       "2                               NaN  ...                              0.74   \n",
       "3                               NaN  ...                              0.69   \n",
       "4                               NaN  ...                              0.70   \n",
       "\n",
       "   Fossil Fuel Consumption (%)  Male life expectancy  Female life expectancy   \\\n",
       "0                          NaN                   NaN                      NaN   \n",
       "1                          NaN                75.775                   80.941   \n",
       "2                          NaN                76.061                   81.316   \n",
       "3                          NaN                75.909                   81.171   \n",
       "4                          NaN                75.724                   81.000   \n",
       "\n",
       "   School enrollment, primary  School enrollment, tertiary  \\\n",
       "0                         NaN                          NaN   \n",
       "1                         NaN                          NaN   \n",
       "2                         NaN                          NaN   \n",
       "3                  112.122238                          NaN   \n",
       "4                  112.091682                          NaN   \n",
       "\n",
       "   Primary completion rate  Literacy rate  Year              Country  \n",
       "0                      NaN            NaN  2022  Antigua and Barbuda  \n",
       "1                      NaN            NaN  2021  Antigua and Barbuda  \n",
       "2                      NaN            NaN  2020  Antigua and Barbuda  \n",
       "3               104.976669            NaN  2019  Antigua and Barbuda  \n",
       "4               104.444443            NaN  2018  Antigua and Barbuda  \n",
       "\n",
       "[5 rows x 26 columns]"
      ]
     },
     "execution_count": 3,
     "metadata": {},
     "output_type": "execute_result"
    }
   ],
   "source": [
    "# TEST\n",
    "raw_df.head()"
   ]
  },
  {
   "cell_type": "markdown",
   "metadata": {},
   "source": [
    "### How many rows and how many columns does the raw data have? (0.25 points)"
   ]
  },
  {
   "cell_type": "markdown",
   "metadata": {},
   "source": [
    "Next, you calculate the number of rows and columns of the DataFrame `raw_df` and store it in the variable `shape` (tuple). **If your data has the number of rows smaller than 1000, please crawl the data once again with larger year interval**."
   ]
  },
  {
   "cell_type": "code",
   "execution_count": 4,
   "metadata": {},
   "outputs": [],
   "source": [
    "# YOUR CODE HERE\n",
    "shape = raw_df.shape"
   ]
  },
  {
   "cell_type": "code",
   "execution_count": 5,
   "metadata": {},
   "outputs": [
    {
     "name": "stdout",
     "output_type": "stream",
     "text": [
      "Current shape: (1204, 26)\n",
      "Your data good!.\n"
     ]
    }
   ],
   "source": [
    "# TEST\n",
    "print(f\"Current shape: {shape}\")\n",
    "\n",
    "if shape[0] > 1000:\n",
    "    print(f\"Your data good!.\")\n",
    "else:\n",
    "    print(f\"Your raw data absolutely small. Please choose larger year interval.!\")"
   ]
  },
  {
   "cell_type": "markdown",
   "metadata": {},
   "source": [
    "### What does each line mean? Does it matter if the lines have different meanings?"
   ]
  },
  {
   "cell_type": "markdown",
   "metadata": {},
   "source": [
    "**TODO**: Give your obervation here\n",
    "\n",
    "Each line is a sample which includes statistics related to Population, Employment, Health, GDP, Energy Consumption,... for a specific country in Americas in a specific year\n",
    "\n",
    "It is essential that the lines have the same meanings to avoid confusion and incorrect analysis, ensure that the data is well-structured and can be analyzed accurately. In many cases, lines with different meanings can lead to misinterpretation and errors in analysis"
   ]
  },
  {
   "cell_type": "markdown",
   "metadata": {},
   "source": [
    "### Does the raw data have duplicate rows? (0.25 points)"
   ]
  },
  {
   "cell_type": "markdown",
   "metadata": {},
   "source": [
    "Next, you calculate the number of rows with duplicate indexes and store it in the variable `num_duplicated_rows`. In a group of lines with the same index, the first line is not counted as repeated."
   ]
  },
  {
   "cell_type": "code",
   "execution_count": 6,
   "metadata": {},
   "outputs": [],
   "source": [
    "# YOUR CODE HERE\n",
    "index = raw_df.index\n",
    "detectDupSeries = index.duplicated(keep='first')\n",
    "num_duplicated_rows = detectDupSeries.sum()"
   ]
  },
  {
   "cell_type": "code",
   "execution_count": 7,
   "metadata": {},
   "outputs": [
    {
     "name": "stdout",
     "output_type": "stream",
     "text": [
      "Your raw data have no duplicated line.!\n"
     ]
    }
   ],
   "source": [
    "# TEST\n",
    "if num_duplicated_rows == 0:\n",
    "    print(f\"Your raw data have no duplicated line.!\")\n",
    "else:\n",
    "    if num_duplicated_rows > 1:\n",
    "        ext = \"lines\"\n",
    "    else:\n",
    "        ext = \"line\"\n",
    "    print(f\"Your raw data have {num_duplicated_rows} duplicated \" + ext + \". Please de-deduplicate your raw data.!\")"
   ]
  },
  {
   "cell_type": "code",
   "execution_count": 8,
   "metadata": {},
   "outputs": [],
   "source": [
    "# De-deduplicate your raw data\n",
    "# YOUR CODE HERE\n",
    "raw_df = raw_df.drop_duplicates()"
   ]
  },
  {
   "cell_type": "markdown",
   "metadata": {},
   "source": [
    "### What does each column mean? (0.25đ)"
   ]
  },
  {
   "cell_type": "markdown",
   "metadata": {},
   "source": [
    "To see the meaning of each column:\n",
    "- First, you need to read the file \"assignment_schema.csv\" into DataFrame `col_meaning_df`; you also need to make the \"Query API\" column an index column.\n",
    "- Then, you just need to display the DataFrame `col_meaning_df` for viewing. You can use `pd.set_option` to customize the table width so that strings that are too long are not truncated."
   ]
  },
  {
   "cell_type": "code",
   "execution_count": 9,
   "metadata": {},
   "outputs": [],
   "source": [
    "# YOUR CODE HERE\n",
    "col_meaning_df = pd.read_csv('../data/external/assignment_schema.csv')\n",
    "col_meaning_df.set_index('Query API', inplace=True)\n",
    "pd.set_option('display.max_colwidth', 350)\n",
    "\n",
    "# raise NotImplementedError()"
   ]
  },
  {
   "cell_type": "code",
   "execution_count": 10,
   "metadata": {},
   "outputs": [
    {
     "data": {
      "text/html": [
       "<div>\n",
       "<style scoped>\n",
       "    .dataframe tbody tr th:only-of-type {\n",
       "        vertical-align: middle;\n",
       "    }\n",
       "\n",
       "    .dataframe tbody tr th {\n",
       "        vertical-align: top;\n",
       "    }\n",
       "\n",
       "    .dataframe thead th {\n",
       "        text-align: right;\n",
       "    }\n",
       "</style>\n",
       "<table border=\"1\" class=\"dataframe\">\n",
       "  <thead>\n",
       "    <tr style=\"text-align: right;\">\n",
       "      <th></th>\n",
       "      <th>Meaning</th>\n",
       "    </tr>\n",
       "    <tr>\n",
       "      <th>Query API</th>\n",
       "      <th></th>\n",
       "    </tr>\n",
       "  </thead>\n",
       "  <tbody>\n",
       "    <tr>\n",
       "      <th>SP.POP.TOTL</th>\n",
       "      <td>Total Population</td>\n",
       "    </tr>\n",
       "    <tr>\n",
       "      <th>SP.POP.TOTL.FE.IN</th>\n",
       "      <td>Female Population</td>\n",
       "    </tr>\n",
       "    <tr>\n",
       "      <th>SP.POP.TOTL.MA.IN</th>\n",
       "      <td>Male Population</td>\n",
       "    </tr>\n",
       "    <tr>\n",
       "      <th>SP.DYN.CBRT.IN</th>\n",
       "      <td>Birth Rate</td>\n",
       "    </tr>\n",
       "    <tr>\n",
       "      <th>SP.DYN.CDRT.IN</th>\n",
       "      <td>Death Rate</td>\n",
       "    </tr>\n",
       "    <tr>\n",
       "      <th>SE.COM.DURS</th>\n",
       "      <td>Compulsory Education Dur</td>\n",
       "    </tr>\n",
       "    <tr>\n",
       "      <th>SL.IND.EMPL.ZS</th>\n",
       "      <td>Employment in Industry(%)</td>\n",
       "    </tr>\n",
       "    <tr>\n",
       "      <th>SL.AGR.EMPL.ZS</th>\n",
       "      <td>Employment in Agriculture(%)</td>\n",
       "    </tr>\n",
       "    <tr>\n",
       "      <th>SL.AGR.EMPL.FE.ZS</th>\n",
       "      <td>Female Employment in Agriculture(%)</td>\n",
       "    </tr>\n",
       "    <tr>\n",
       "      <th>SL.IND.EMPL.FE.ZS</th>\n",
       "      <td>Female Employment in Industry(%)</td>\n",
       "    </tr>\n",
       "    <tr>\n",
       "      <th>SL.UEM.TOTL.ZS</th>\n",
       "      <td>Unemployment(%)</td>\n",
       "    </tr>\n",
       "    <tr>\n",
       "      <th>NY.GDP.MKTP.CD</th>\n",
       "      <td>GDP in USD</td>\n",
       "    </tr>\n",
       "    <tr>\n",
       "      <th>NY.ADJ.NNTY.PC.KD.ZG</th>\n",
       "      <td>National Income per Capita</td>\n",
       "    </tr>\n",
       "    <tr>\n",
       "      <th>NY.GSR.NFCY.CD</th>\n",
       "      <td>Net income from Abroad</td>\n",
       "    </tr>\n",
       "    <tr>\n",
       "      <th>NV.AGR.TOTL.CD</th>\n",
       "      <td>Agriculture value added(in USD)</td>\n",
       "    </tr>\n",
       "    <tr>\n",
       "      <th>EG.USE.ELEC.KH.PC</th>\n",
       "      <td>Electric Power Consumption(kWH per capita)</td>\n",
       "    </tr>\n",
       "    <tr>\n",
       "      <th>EG.FEC.RNEW.ZS</th>\n",
       "      <td>Renewable Energy Consumption (%)</td>\n",
       "    </tr>\n",
       "    <tr>\n",
       "      <th>EG.USE.COMM.FO.ZS</th>\n",
       "      <td>Fossil Fuel Consumption (%)</td>\n",
       "    </tr>\n",
       "    <tr>\n",
       "      <th>SP.DYN.LE00.MA.IN</th>\n",
       "      <td>Male life expectancy</td>\n",
       "    </tr>\n",
       "    <tr>\n",
       "      <th>SP.DYN.LE00.FE.IN</th>\n",
       "      <td>Female life expectancy</td>\n",
       "    </tr>\n",
       "    <tr>\n",
       "      <th>SE.PRM.ENRR</th>\n",
       "      <td>School enrollment in primary</td>\n",
       "    </tr>\n",
       "    <tr>\n",
       "      <th>SE.TER.ENRR</th>\n",
       "      <td>School enrollment in tertiary</td>\n",
       "    </tr>\n",
       "    <tr>\n",
       "      <th>E.PRM.CMPT.ZS</th>\n",
       "      <td>Primary completion rate</td>\n",
       "    </tr>\n",
       "    <tr>\n",
       "      <th>SE.ADT.1524.LT.ZS</th>\n",
       "      <td>Literacy rate</td>\n",
       "    </tr>\n",
       "  </tbody>\n",
       "</table>\n",
       "</div>"
      ],
      "text/plain": [
       "                                                         Meaning\n",
       "Query API                                                       \n",
       "SP.POP.TOTL                                     Total Population\n",
       "SP.POP.TOTL.FE.IN                              Female Population\n",
       "SP.POP.TOTL.MA.IN                                Male Population\n",
       "SP.DYN.CBRT.IN                                        Birth Rate\n",
       "SP.DYN.CDRT.IN                                        Death Rate\n",
       "SE.COM.DURS                             Compulsory Education Dur\n",
       "SL.IND.EMPL.ZS                         Employment in Industry(%)\n",
       "SL.AGR.EMPL.ZS                      Employment in Agriculture(%)\n",
       "SL.AGR.EMPL.FE.ZS            Female Employment in Agriculture(%)\n",
       "SL.IND.EMPL.FE.ZS               Female Employment in Industry(%)\n",
       "SL.UEM.TOTL.ZS                                   Unemployment(%)\n",
       "NY.GDP.MKTP.CD                                        GDP in USD\n",
       "NY.ADJ.NNTY.PC.KD.ZG                  National Income per Capita\n",
       "NY.GSR.NFCY.CD                            Net income from Abroad\n",
       "NV.AGR.TOTL.CD                   Agriculture value added(in USD)\n",
       "EG.USE.ELEC.KH.PC     Electric Power Consumption(kWH per capita)\n",
       "EG.FEC.RNEW.ZS                  Renewable Energy Consumption (%)\n",
       "EG.USE.COMM.FO.ZS                    Fossil Fuel Consumption (%)\n",
       "SP.DYN.LE00.MA.IN                           Male life expectancy\n",
       "SP.DYN.LE00.FE.IN                         Female life expectancy\n",
       "SE.PRM.ENRR                         School enrollment in primary\n",
       "SE.TER.ENRR                        School enrollment in tertiary\n",
       "E.PRM.CMPT.ZS                            Primary completion rate\n",
       "SE.ADT.1524.LT.ZS                                  Literacy rate"
      ]
     },
     "execution_count": 10,
     "metadata": {},
     "output_type": "execute_result"
    }
   ],
   "source": [
    "# TEST\n",
    "col_meaning_df"
   ]
  },
  {
   "cell_type": "markdown",
   "metadata": {},
   "source": [
    "Before moving forward, you should read the results displayed above and make sure you understand the meaning of the columns. To understand the meaning of the column, you may need to look at the values of the DataFrame side column `raw_df`."
   ]
  },
  {
   "cell_type": "markdown",
   "metadata": {},
   "source": [
    "### What data type does each column currently have? Are there any columns whose data types are not suitable for further processing? (0.25 points)"
   ]
  },
  {
   "cell_type": "markdown",
   "metadata": {},
   "source": [
    "Next, you calculate the data type (dtype) of each column in DataFrame `raw_df` and save the result into Series `dtypes` (This Series has the index as the column name)."
   ]
  },
  {
   "cell_type": "code",
   "execution_count": 11,
   "metadata": {},
   "outputs": [],
   "source": [
    "# YOUR CODE HERE\n",
    "dtypes = raw_df.dtypes\n",
    "# raise NotImplementedError()"
   ]
  },
  {
   "cell_type": "code",
   "execution_count": 12,
   "metadata": {},
   "outputs": [
    {
     "data": {
      "text/plain": [
       "Total Population                              float64\n",
       "Female Population                             float64\n",
       "Male Population                               float64\n",
       "Birth Rate                                    float64\n",
       "Death Rate                                    float64\n",
       "Compulsory Education Dur.                     float64\n",
       "Employment in Industry(%)                     float64\n",
       "Employment in Agriculture(%)                  float64\n",
       "Female Employment in Agriculture(%)           float64\n",
       "Female Employment in Industry(%)              float64\n",
       "Unemployment(%)                               float64\n",
       "GDP in USD                                    float64\n",
       "National Income per Capita                    float64\n",
       "Net income from Abroad                        float64\n",
       "Agriculture value added(in USD)               float64\n",
       "Electric Power Consumption(kWH per capita)    float64\n",
       "Renewable Energy Consumption (%)              float64\n",
       "Fossil Fuel Consumption (%)                   float64\n",
       "Male life expectancy                          float64\n",
       "Female life expectancy                        float64\n",
       "School enrollment, primary                    float64\n",
       "School enrollment, tertiary                   float64\n",
       "Primary completion rate                       float64\n",
       "Literacy rate                                 float64\n",
       "Year                                            int64\n",
       "Country                                        object\n",
       "dtype: object"
      ]
     },
     "execution_count": 12,
     "metadata": {},
     "output_type": "execute_result"
    }
   ],
   "source": [
    "# TEST\n",
    "dtypes"
   ]
  },
  {
   "cell_type": "markdown",
   "metadata": {},
   "source": [
    "We observe that the column `Year` has numeric type. However, its magnitude does not have a significance. And, it actually represents a period instead of a number. Thus, it can be convert to categorical type."
   ]
  },
  {
   "cell_type": "code",
   "execution_count": 13,
   "metadata": {},
   "outputs": [],
   "source": [
    "# YOUR CODE HERE\n",
    "raw_df[\"Year\"] = raw_df[\"Year\"].astype(str)\n",
    "# raise NotImplementedError()"
   ]
  },
  {
   "cell_type": "code",
   "execution_count": 14,
   "metadata": {},
   "outputs": [],
   "source": [
    "# TEST\n",
    "dtypes = raw_df.dtypes\n",
    "float_cols = set(dtypes[(dtypes==np.float32) | (dtypes==np.float64)].index)\n",
    "assert len(float_cols) == 24\n",
    "object_cols = set(dtypes[dtypes == object].index)\n",
    "assert len(object_cols) == 2"
   ]
  },
  {
   "cell_type": "markdown",
   "metadata": {},
   "source": [
    "### For each column with numeric data type, how are the values distributed? (1đ)"
   ]
  },
  {
   "cell_type": "markdown",
   "metadata": {},
   "source": [
    "For columns with numeric data types, you will calculate:\n",
    "- Percentage (from 0 to 100) of missing values\n",
    "- The min\n",
    "- The lower quartile (phân vị 25)\n",
    "- The median (phân vị 50)\n",
    "- The upper quartile (phân vị 75)\n",
    "- The max\n",
    "\n",
    "You will save the results to a DataFrame `num_col_info_df`, where:\n",
    "- The names of the columns are the names of the numeric columns in `raw_df`\n",
    "- Names of rows: \"missing_ratio\", \"min\", \"lower_quartile\", \"median\", \"upper_quartile\", \"max\"  \n",
    "\n",
    "For ease of viewing, you round all values to 1 decimal place using the `.round(1)` method."
   ]
  },
  {
   "cell_type": "code",
   "execution_count": 15,
   "metadata": {},
   "outputs": [
    {
     "data": {
      "text/html": [
       "<div>\n",
       "<style scoped>\n",
       "    .dataframe tbody tr th:only-of-type {\n",
       "        vertical-align: middle;\n",
       "    }\n",
       "\n",
       "    .dataframe tbody tr th {\n",
       "        vertical-align: top;\n",
       "    }\n",
       "\n",
       "    .dataframe thead th {\n",
       "        text-align: right;\n",
       "    }\n",
       "</style>\n",
       "<table border=\"1\" class=\"dataframe\">\n",
       "  <thead>\n",
       "    <tr style=\"text-align: right;\">\n",
       "      <th></th>\n",
       "      <th>Total Population</th>\n",
       "      <th>Female Population</th>\n",
       "      <th>Male Population</th>\n",
       "      <th>Birth Rate</th>\n",
       "      <th>Death Rate</th>\n",
       "      <th>Compulsory Education Dur.</th>\n",
       "      <th>Employment in Industry(%)</th>\n",
       "      <th>Employment in Agriculture(%)</th>\n",
       "      <th>Female Employment in Agriculture(%)</th>\n",
       "      <th>Female Employment in Industry(%)</th>\n",
       "      <th>...</th>\n",
       "      <th>Agriculture value added(in USD)</th>\n",
       "      <th>Electric Power Consumption(kWH per capita)</th>\n",
       "      <th>Renewable Energy Consumption (%)</th>\n",
       "      <th>Fossil Fuel Consumption (%)</th>\n",
       "      <th>Male life expectancy</th>\n",
       "      <th>Female life expectancy</th>\n",
       "      <th>School enrollment, primary</th>\n",
       "      <th>School enrollment, tertiary</th>\n",
       "      <th>Primary completion rate</th>\n",
       "      <th>Literacy rate</th>\n",
       "    </tr>\n",
       "  </thead>\n",
       "  <tbody>\n",
       "    <tr>\n",
       "      <th>missing_ratio</th>\n",
       "      <td>0.0</td>\n",
       "      <td>0.0</td>\n",
       "      <td>0.0</td>\n",
       "      <td>3.800</td>\n",
       "      <td>3.800</td>\n",
       "      <td>15.6</td>\n",
       "      <td>26.00000</td>\n",
       "      <td>26.000000</td>\n",
       "      <td>26.000000</td>\n",
       "      <td>26.000000</td>\n",
       "      <td>...</td>\n",
       "      <td>1.060000e+01</td>\n",
       "      <td>58.900000</td>\n",
       "      <td>6.10</td>\n",
       "      <td>55.300000</td>\n",
       "      <td>5.700</td>\n",
       "      <td>5.700</td>\n",
       "      <td>25.800000</td>\n",
       "      <td>54.90000</td>\n",
       "      <td>44.400000</td>\n",
       "      <td>74.700000</td>\n",
       "    </tr>\n",
       "    <tr>\n",
       "      <th>min</th>\n",
       "      <td>15101.0</td>\n",
       "      <td>7337.0</td>\n",
       "      <td>7765.0</td>\n",
       "      <td>5.900</td>\n",
       "      <td>2.800</td>\n",
       "      <td>6.0</td>\n",
       "      <td>10.38677</td>\n",
       "      <td>1.128129</td>\n",
       "      <td>0.094002</td>\n",
       "      <td>3.099745</td>\n",
       "      <td>...</td>\n",
       "      <td>3.486034e+05</td>\n",
       "      <td>23.915832</td>\n",
       "      <td>0.00</td>\n",
       "      <td>0.000000</td>\n",
       "      <td>45.758</td>\n",
       "      <td>46.251</td>\n",
       "      <td>72.597130</td>\n",
       "      <td>0.11737</td>\n",
       "      <td>46.638149</td>\n",
       "      <td>72.346718</td>\n",
       "    </tr>\n",
       "    <tr>\n",
       "      <th>lower_quartile</th>\n",
       "      <td>109166.0</td>\n",
       "      <td>56456.5</td>\n",
       "      <td>55542.5</td>\n",
       "      <td>13.600</td>\n",
       "      <td>5.600</td>\n",
       "      <td>9.0</td>\n",
       "      <td>18.00000</td>\n",
       "      <td>8.100000</td>\n",
       "      <td>2.400000</td>\n",
       "      <td>8.800000</td>\n",
       "      <td>...</td>\n",
       "      <td>7.631481e+07</td>\n",
       "      <td>687.600000</td>\n",
       "      <td>4.70</td>\n",
       "      <td>47.600000</td>\n",
       "      <td>67.900</td>\n",
       "      <td>73.900</td>\n",
       "      <td>100.500000</td>\n",
       "      <td>19.70000</td>\n",
       "      <td>89.900000</td>\n",
       "      <td>96.600000</td>\n",
       "    </tr>\n",
       "    <tr>\n",
       "      <th>median</th>\n",
       "      <td>3422497.0</td>\n",
       "      <td>1764234.5</td>\n",
       "      <td>1658095.5</td>\n",
       "      <td>17.200</td>\n",
       "      <td>6.800</td>\n",
       "      <td>12.0</td>\n",
       "      <td>20.10000</td>\n",
       "      <td>15.700000</td>\n",
       "      <td>5.400000</td>\n",
       "      <td>10.800000</td>\n",
       "      <td>...</td>\n",
       "      <td>1.085180e+09</td>\n",
       "      <td>1375.900000</td>\n",
       "      <td>14.60</td>\n",
       "      <td>73.600000</td>\n",
       "      <td>70.400</td>\n",
       "      <td>76.400</td>\n",
       "      <td>106.400000</td>\n",
       "      <td>33.30000</td>\n",
       "      <td>96.900000</td>\n",
       "      <td>98.100000</td>\n",
       "    </tr>\n",
       "    <tr>\n",
       "      <th>upper_quartile</th>\n",
       "      <td>11949081.0</td>\n",
       "      <td>5975354.5</td>\n",
       "      <td>5995499.0</td>\n",
       "      <td>22.100</td>\n",
       "      <td>7.900</td>\n",
       "      <td>13.0</td>\n",
       "      <td>22.70000</td>\n",
       "      <td>25.200000</td>\n",
       "      <td>9.500000</td>\n",
       "      <td>14.000000</td>\n",
       "      <td>...</td>\n",
       "      <td>4.399687e+09</td>\n",
       "      <td>2468.600000</td>\n",
       "      <td>32.20</td>\n",
       "      <td>85.400000</td>\n",
       "      <td>73.100</td>\n",
       "      <td>79.100</td>\n",
       "      <td>111.700000</td>\n",
       "      <td>54.40000</td>\n",
       "      <td>101.800000</td>\n",
       "      <td>98.900000</td>\n",
       "    </tr>\n",
       "    <tr>\n",
       "      <th>max</th>\n",
       "      <td>333287557.0</td>\n",
       "      <td>168266219.0</td>\n",
       "      <td>165021339.0</td>\n",
       "      <td>37.349</td>\n",
       "      <td>17.738</td>\n",
       "      <td>17.0</td>\n",
       "      <td>32.26668</td>\n",
       "      <td>52.982150</td>\n",
       "      <td>42.189880</td>\n",
       "      <td>27.820870</td>\n",
       "      <td>...</td>\n",
       "      <td>2.237237e+11</td>\n",
       "      <td>17264.736744</td>\n",
       "      <td>86.99</td>\n",
       "      <td>99.929949</td>\n",
       "      <td>80.621</td>\n",
       "      <td>85.855</td>\n",
       "      <td>148.712952</td>\n",
       "      <td>117.71994</td>\n",
       "      <td>152.806656</td>\n",
       "      <td>100.000000</td>\n",
       "    </tr>\n",
       "  </tbody>\n",
       "</table>\n",
       "<p>6 rows × 24 columns</p>\n",
       "</div>"
      ],
      "text/plain": [
       "                Total Population  Female Population  Male Population  \\\n",
       "missing_ratio                0.0                0.0              0.0   \n",
       "min                      15101.0             7337.0           7765.0   \n",
       "lower_quartile          109166.0            56456.5          55542.5   \n",
       "median                 3422497.0          1764234.5        1658095.5   \n",
       "upper_quartile        11949081.0          5975354.5        5995499.0   \n",
       "max                  333287557.0        168266219.0      165021339.0   \n",
       "\n",
       "                Birth Rate  Death Rate  Compulsory Education Dur.  \\\n",
       "missing_ratio        3.800       3.800                       15.6   \n",
       "min                  5.900       2.800                        6.0   \n",
       "lower_quartile      13.600       5.600                        9.0   \n",
       "median              17.200       6.800                       12.0   \n",
       "upper_quartile      22.100       7.900                       13.0   \n",
       "max                 37.349      17.738                       17.0   \n",
       "\n",
       "                Employment in Industry(%)  Employment in Agriculture(%)  \\\n",
       "missing_ratio                    26.00000                     26.000000   \n",
       "min                              10.38677                      1.128129   \n",
       "lower_quartile                   18.00000                      8.100000   \n",
       "median                           20.10000                     15.700000   \n",
       "upper_quartile                   22.70000                     25.200000   \n",
       "max                              32.26668                     52.982150   \n",
       "\n",
       "                Female Employment in Agriculture(%)  \\\n",
       "missing_ratio                             26.000000   \n",
       "min                                        0.094002   \n",
       "lower_quartile                             2.400000   \n",
       "median                                     5.400000   \n",
       "upper_quartile                             9.500000   \n",
       "max                                       42.189880   \n",
       "\n",
       "                Female Employment in Industry(%)  ...  \\\n",
       "missing_ratio                          26.000000  ...   \n",
       "min                                     3.099745  ...   \n",
       "lower_quartile                          8.800000  ...   \n",
       "median                                 10.800000  ...   \n",
       "upper_quartile                         14.000000  ...   \n",
       "max                                    27.820870  ...   \n",
       "\n",
       "                Agriculture value added(in USD)  \\\n",
       "missing_ratio                      1.060000e+01   \n",
       "min                                3.486034e+05   \n",
       "lower_quartile                     7.631481e+07   \n",
       "median                             1.085180e+09   \n",
       "upper_quartile                     4.399687e+09   \n",
       "max                                2.237237e+11   \n",
       "\n",
       "                Electric Power Consumption(kWH per capita)  \\\n",
       "missing_ratio                                    58.900000   \n",
       "min                                              23.915832   \n",
       "lower_quartile                                  687.600000   \n",
       "median                                         1375.900000   \n",
       "upper_quartile                                 2468.600000   \n",
       "max                                           17264.736744   \n",
       "\n",
       "                Renewable Energy Consumption (%)  Fossil Fuel Consumption (%)  \\\n",
       "missing_ratio                               6.10                    55.300000   \n",
       "min                                         0.00                     0.000000   \n",
       "lower_quartile                              4.70                    47.600000   \n",
       "median                                     14.60                    73.600000   \n",
       "upper_quartile                             32.20                    85.400000   \n",
       "max                                        86.99                    99.929949   \n",
       "\n",
       "                Male life expectancy  Female life expectancy   \\\n",
       "missing_ratio                  5.700                    5.700   \n",
       "min                           45.758                   46.251   \n",
       "lower_quartile                67.900                   73.900   \n",
       "median                        70.400                   76.400   \n",
       "upper_quartile                73.100                   79.100   \n",
       "max                           80.621                   85.855   \n",
       "\n",
       "                School enrollment, primary  School enrollment, tertiary  \\\n",
       "missing_ratio                    25.800000                     54.90000   \n",
       "min                              72.597130                      0.11737   \n",
       "lower_quartile                  100.500000                     19.70000   \n",
       "median                          106.400000                     33.30000   \n",
       "upper_quartile                  111.700000                     54.40000   \n",
       "max                             148.712952                    117.71994   \n",
       "\n",
       "                Primary completion rate  Literacy rate  \n",
       "missing_ratio                 44.400000      74.700000  \n",
       "min                           46.638149      72.346718  \n",
       "lower_quartile                89.900000      96.600000  \n",
       "median                        96.900000      98.100000  \n",
       "upper_quartile               101.800000      98.900000  \n",
       "max                          152.806656     100.000000  \n",
       "\n",
       "[6 rows x 24 columns]"
      ]
     },
     "execution_count": 15,
     "metadata": {},
     "output_type": "execute_result"
    }
   ],
   "source": [
    "# YOUR CODE HERE\n",
    "num_col_info_df = raw_df.select_dtypes(exclude='object')\n",
    "\n",
    "def missing_ratio(s):\n",
    "    return (s.isna().mean() * 100).round(1)\n",
    "    # raise NotImplementedError()\n",
    "\n",
    "def median(df):\n",
    "    return (df.quantile(0.5)).round(1)\n",
    "    # raise NotImplementedError()\n",
    "\n",
    "def lower_quartile(df):\n",
    "    return (df.quantile(0.25)).round(1)\n",
    "    # raise NotImplementedError()\n",
    "\n",
    "def upper_quartile(df):\n",
    "    return (df.quantile(0.75)).round(1)\n",
    "    # raise NotImplementedError()\n",
    "\n",
    "num_col_info_df = num_col_info_df.agg([missing_ratio, \"min\", lower_quartile, median, upper_quartile, \"max\"])\n",
    "num_col_info_df"
   ]
  },
  {
   "cell_type": "code",
   "execution_count": 16,
   "metadata": {},
   "outputs": [
    {
     "data": {
      "image/png": "[encoded data removed]",
      "text/plain": [
       "<Figure size 640x480 with 1 Axes>"
      ]
     },
     "metadata": {},
     "output_type": "display_data"
    },
    {
     "data": {
      "image/png": "[encoded data removed]",
      "text/plain": [
       "<Figure size 640x480 with 1 Axes>"
      ]
     },
     "metadata": {},
     "output_type": "display_data"
    },
    {
     "data": {
      "image/png": "[encoded data removed]",
      "text/plain": [
       "<Figure size 640x480 with 1 Axes>"
      ]
     },
     "metadata": {},
     "output_type": "display_data"
    },
    {
     "data": {
      "image/png": "[encoded data removed]",
      "text/plain": [
       "<Figure size 640x480 with 1 Axes>"
      ]
     },
     "metadata": {},
     "output_type": "display_data"
    },
    {
     "data": {
      "image/png": "[encoded data removed]",
      "text/plain": [
       "<Figure size 640x480 with 1 Axes>"
      ]
     },
     "metadata": {},
     "output_type": "display_data"
    },
    {
     "data": {
      "image/png": "[encoded data removed]",
      "text/plain": [
       "<Figure size 640x480 with 1 Axes>"
      ]
     },
     "metadata": {},
     "output_type": "display_data"
    },
    {
     "data": {
      "image/png": "[encoded data removed]",
      "text/plain": [
       "<Figure size 640x480 with 1 Axes>"
      ]
     },
     "metadata": {},
     "output_type": "display_data"
    },
    {
     "data": {
      "image/png": "[encoded data removed]",
      "text/plain": [
       "<Figure size 640x480 with 1 Axes>"
      ]
     },
     "metadata": {},
     "output_type": "display_data"
    },
    {
     "data": {
      "image/png": "[encoded data removed]",
      "text/plain": [
       "<Figure size 640x480 with 1 Axes>"
      ]
     },
     "metadata": {},
     "output_type": "display_data"
    },
    {
     "data": {
      "image/png": "[encoded data removed]",
      "text/plain": [
       "<Figure size 640x480 with 1 Axes>"
      ]
     },
     "metadata": {},
     "output_type": "display_data"
    },
    {
     "data": {
      "image/png": "[encoded data removed]",
      "text/plain": [
       "<Figure size 640x480 with 1 Axes>"
      ]
     },
     "metadata": {},
     "output_type": "display_data"
    },
    {
     "data": {
      "image/png": "[encoded data removed]",
      "text/plain": [
       "<Figure size 640x480 with 1 Axes>"
      ]
     },
     "metadata": {},
     "output_type": "display_data"
    },
    {
     "data": {
      "image/png": "[encoded data removed]",
      "text/plain": [
       "<Figure size 640x480 with 1 Axes>"
      ]
     },
     "metadata": {},
     "output_type": "display_data"
    },
    {
     "data": {
      "image/png": "[encoded data removed]",
      "text/plain": [
       "<Figure size 640x480 with 1 Axes>"
      ]
     },
     "metadata": {},
     "output_type": "display_data"
    },
    {
     "data": {
      "image/png": "[encoded data removed]",
      "text/plain": [
       "<Figure size 640x480 with 1 Axes>"
      ]
     },
     "metadata": {},
     "output_type": "display_data"
    },
    {
     "data": {
      "image/png": "[encoded data removed]",
      "text/plain": [
       "<Figure size 640x480 with 1 Axes>"
      ]
     },
     "metadata": {},
     "output_type": "display_data"
    },
    {
     "data": {
      "image/png": "[encoded data removed]",
      "text/plain": [
       "<Figure size 640x480 with 1 Axes>"
      ]
     },
     "metadata": {},
     "output_type": "display_data"
    },
    {
     "data": {
      "image/png": "[encoded data removed]",
      "text/plain": [
       "<Figure size 640x480 with 1 Axes>"
      ]
     },
     "metadata": {},
     "output_type": "display_data"
    },
    {
     "data": {
      "image/png": "[encoded data removed]",
      "text/plain": [
       "<Figure size 640x480 with 1 Axes>"
      ]
     },
     "metadata": {},
     "output_type": "display_data"
    },
    {
     "data": {
      "image/png": "[encoded data removed]",
      "text/plain": [
       "<Figure size 640x480 with 1 Axes>"
      ]
     },
     "metadata": {},
     "output_type": "display_data"
    },
    {
     "data": {
      "image/png": "[encoded data removed]",
      "text/plain": [
       "<Figure size 640x480 with 1 Axes>"
      ]
     },
     "metadata": {},
     "output_type": "display_data"
    },
    {
     "data": {
      "image/png": "[encoded data removed]",
      "text/plain": [
       "<Figure size 640x480 with 1 Axes>"
      ]
     },
     "metadata": {},
     "output_type": "display_data"
    },
    {
     "data": {
      "image/png": "[encoded data removed]",
      "text/plain": [
       "<Figure size 640x480 with 1 Axes>"
      ]
     },
     "metadata": {},
     "output_type": "display_data"
    },
    {
     "data": {
      "image/png": "[encoded data removed]",
      "text/plain": [
       "<Figure size 640x480 with 1 Axes>"
      ]
     },
     "metadata": {},
     "output_type": "display_data"
    }
   ],
   "source": [
    "# YOUR CODE HERE (Optional)\n",
    "# You can use Matplotlib to visualize this table for more intuitive\n",
    "for col in num_col_info_df:\n",
    "    plt.hist(raw_df[col])\n",
    "    plt.show()"
   ]
  },
  {
   "cell_type": "code",
   "execution_count": 17,
   "metadata": {},
   "outputs": [],
   "source": [
    "# TEST\n",
    "assert num_col_info_df[\"Total Population\"][\"missing_ratio\"] == 0"
   ]
  },
  {
   "cell_type": "code",
   "execution_count": 18,
   "metadata": {},
   "outputs": [
    {
     "data": {
      "text/plain": [
       "{'Total Population': 0.0,\n",
       " 'Female Population': 0.0,\n",
       " 'Male Population': 0.0,\n",
       " 'Birth Rate': 3.8,\n",
       " 'Death Rate': 3.8,\n",
       " 'Compulsory Education Dur.': 15.6,\n",
       " 'Employment in Industry(%)': 26.0,\n",
       " 'Employment in Agriculture(%)': 26.0,\n",
       " 'Female Employment in Agriculture(%)': 26.0,\n",
       " 'Female Employment in Industry(%)': 26.0,\n",
       " 'Unemployment(%)': 23.3,\n",
       " 'GDP in USD': 5.6,\n",
       " 'National Income per Capita': 50.0,\n",
       " 'Net income from Abroad': 11.4,\n",
       " 'Agriculture value added(in USD)': 10.6,\n",
       " 'Electric Power Consumption(kWH per capita)': 58.9,\n",
       " 'Renewable Energy Consumption (%)': 6.1,\n",
       " 'Fossil Fuel Consumption (%)': 55.3,\n",
       " 'Male life expectancy': 5.7,\n",
       " 'Female life expectancy ': 5.7,\n",
       " 'School enrollment, primary': 25.8,\n",
       " 'School enrollment, tertiary': 54.9,\n",
       " 'Primary completion rate': 44.4,\n",
       " 'Literacy rate': 74.7}"
      ]
     },
     "execution_count": 18,
     "metadata": {},
     "output_type": "execute_result"
    }
   ],
   "source": [
    "dict(num_col_info_df.iloc[0])"
   ]
  },
  {
   "cell_type": "markdown",
   "metadata": {},
   "source": [
    "After identifying the basic statistical numbers that describe your data, we further need to determine the features that have a large number of missing values. Such features are not useful for the analysis stage and must be removed from the dataset.\n",
    "\n",
    "Depending on your goals, the threshold for \"large\" can be defined. Usually, if the percentage of missing values is greater than 75%, the column is dropped from the dataframe and an updated dataframe is returned."
   ]
  },
  {
   "cell_type": "code",
   "execution_count": 19,
   "metadata": {},
   "outputs": [],
   "source": [
    "def drop_missing_features(df: pd.DataFrame, missing_lst: dict = dict(num_col_info_df.iloc[0]), threshold: float = 75.0) -> pd.DataFrame:\n",
    "    \"\"\"Drop missing features from Pandas dataframe base on given threshold.\n",
    "\n",
    "    Args:\n",
    "        df (pd.DataFrame): Input dataframe for processing.\n",
    "        missing_lst (dict, optional): Dict missing value rate which calculated from previous stage. Defaults to dict(num_col_info_df.iloc[0]).\n",
    "        threshold (float, optional): User threshold for dropping. Defaults to 75.0.\n",
    "\n",
    "    Returns:\n",
    "        pd.DataFrame: Updated dataframe\n",
    "    \"\"\"\n",
    "    # YOUR CODE HERE\n",
    "    # raise NotImplementedError()\n",
    "    if (df is None) or (missing_lst is None) or (threshold is None):\n",
    "        print(f\"[LOG] Invalid.\")\n",
    "        raise ValueError\n",
    "    \n",
    "    # Create a copy of the dataframe to avoid changing the original\n",
    "    df_cp = df.copy()\n",
    "    \n",
    "    # List to maintain the columns to drop\n",
    "    cols_to_trim = []\n",
    "    \n",
    "    for key, value in missing_lst.items():\n",
    "        if float(value) > threshold:\n",
    "            cols_to_trim.append(key)\n",
    "            \n",
    "    if len(cols_to_trim) > 0:\n",
    "        # drop the columns identified using the dataframe drop() method\n",
    "        df_cp = df_cp.drop(columns=cols_to_trim)\n",
    "        print(\"[LOG] Dropped column(s): \" + \" \".join(cols_to_trim))\n",
    "    else:\n",
    "        print(\"[LOG] Have no column(s) to trim.\")\n",
    "        \n",
    "    return df_cp"
   ]
  },
  {
   "cell_type": "code",
   "execution_count": 20,
   "metadata": {},
   "outputs": [
    {
     "name": "stdout",
     "output_type": "stream",
     "text": [
      "[LOG] Have no column(s) to trim.\n"
     ]
    }
   ],
   "source": [
    "raw_df = drop_missing_features(raw_df, dict(num_col_info_df.iloc[0]))"
   ]
  },
  {
   "cell_type": "code",
   "execution_count": 21,
   "metadata": {},
   "outputs": [
    {
     "data": {
      "text/html": [
       "<div>\n",
       "<style scoped>\n",
       "    .dataframe tbody tr th:only-of-type {\n",
       "        vertical-align: middle;\n",
       "    }\n",
       "\n",
       "    .dataframe tbody tr th {\n",
       "        vertical-align: top;\n",
       "    }\n",
       "\n",
       "    .dataframe thead th {\n",
       "        text-align: right;\n",
       "    }\n",
       "</style>\n",
       "<table border=\"1\" class=\"dataframe\">\n",
       "  <thead>\n",
       "    <tr style=\"text-align: right;\">\n",
       "      <th></th>\n",
       "      <th>Total Population</th>\n",
       "      <th>Female Population</th>\n",
       "      <th>Male Population</th>\n",
       "      <th>Birth Rate</th>\n",
       "      <th>Death Rate</th>\n",
       "      <th>Compulsory Education Dur.</th>\n",
       "      <th>Employment in Industry(%)</th>\n",
       "      <th>Employment in Agriculture(%)</th>\n",
       "      <th>Female Employment in Agriculture(%)</th>\n",
       "      <th>Female Employment in Industry(%)</th>\n",
       "      <th>...</th>\n",
       "      <th>Renewable Energy Consumption (%)</th>\n",
       "      <th>Fossil Fuel Consumption (%)</th>\n",
       "      <th>Male life expectancy</th>\n",
       "      <th>Female life expectancy</th>\n",
       "      <th>School enrollment, primary</th>\n",
       "      <th>School enrollment, tertiary</th>\n",
       "      <th>Primary completion rate</th>\n",
       "      <th>Literacy rate</th>\n",
       "      <th>Year</th>\n",
       "      <th>Country</th>\n",
       "    </tr>\n",
       "  </thead>\n",
       "  <tbody>\n",
       "    <tr>\n",
       "      <th>0</th>\n",
       "      <td>93763.0</td>\n",
       "      <td>48981.0</td>\n",
       "      <td>44782.0</td>\n",
       "      <td>NaN</td>\n",
       "      <td>NaN</td>\n",
       "      <td>11.0</td>\n",
       "      <td>NaN</td>\n",
       "      <td>NaN</td>\n",
       "      <td>NaN</td>\n",
       "      <td>NaN</td>\n",
       "      <td>...</td>\n",
       "      <td>NaN</td>\n",
       "      <td>NaN</td>\n",
       "      <td>NaN</td>\n",
       "      <td>NaN</td>\n",
       "      <td>NaN</td>\n",
       "      <td>NaN</td>\n",
       "      <td>NaN</td>\n",
       "      <td>NaN</td>\n",
       "      <td>2022</td>\n",
       "      <td>Antigua and Barbuda</td>\n",
       "    </tr>\n",
       "    <tr>\n",
       "      <th>1</th>\n",
       "      <td>93219.0</td>\n",
       "      <td>48709.0</td>\n",
       "      <td>44511.0</td>\n",
       "      <td>12.115</td>\n",
       "      <td>6.365</td>\n",
       "      <td>11.0</td>\n",
       "      <td>NaN</td>\n",
       "      <td>NaN</td>\n",
       "      <td>NaN</td>\n",
       "      <td>NaN</td>\n",
       "      <td>...</td>\n",
       "      <td>0.72</td>\n",
       "      <td>NaN</td>\n",
       "      <td>75.775</td>\n",
       "      <td>80.941</td>\n",
       "      <td>NaN</td>\n",
       "      <td>NaN</td>\n",
       "      <td>NaN</td>\n",
       "      <td>NaN</td>\n",
       "      <td>2021</td>\n",
       "      <td>Antigua and Barbuda</td>\n",
       "    </tr>\n",
       "    <tr>\n",
       "      <th>2</th>\n",
       "      <td>92664.0</td>\n",
       "      <td>48428.0</td>\n",
       "      <td>44236.0</td>\n",
       "      <td>12.160</td>\n",
       "      <td>5.961</td>\n",
       "      <td>11.0</td>\n",
       "      <td>NaN</td>\n",
       "      <td>NaN</td>\n",
       "      <td>NaN</td>\n",
       "      <td>NaN</td>\n",
       "      <td>...</td>\n",
       "      <td>0.74</td>\n",
       "      <td>NaN</td>\n",
       "      <td>76.061</td>\n",
       "      <td>81.316</td>\n",
       "      <td>NaN</td>\n",
       "      <td>NaN</td>\n",
       "      <td>NaN</td>\n",
       "      <td>NaN</td>\n",
       "      <td>2020</td>\n",
       "      <td>Antigua and Barbuda</td>\n",
       "    </tr>\n",
       "    <tr>\n",
       "      <th>3</th>\n",
       "      <td>92117.0</td>\n",
       "      <td>48156.0</td>\n",
       "      <td>43961.0</td>\n",
       "      <td>11.485</td>\n",
       "      <td>5.865</td>\n",
       "      <td>11.0</td>\n",
       "      <td>NaN</td>\n",
       "      <td>NaN</td>\n",
       "      <td>NaN</td>\n",
       "      <td>NaN</td>\n",
       "      <td>...</td>\n",
       "      <td>0.69</td>\n",
       "      <td>NaN</td>\n",
       "      <td>75.909</td>\n",
       "      <td>81.171</td>\n",
       "      <td>112.122238</td>\n",
       "      <td>NaN</td>\n",
       "      <td>104.976669</td>\n",
       "      <td>NaN</td>\n",
       "      <td>2019</td>\n",
       "      <td>Antigua and Barbuda</td>\n",
       "    </tr>\n",
       "    <tr>\n",
       "      <th>4</th>\n",
       "      <td>91626.0</td>\n",
       "      <td>47910.0</td>\n",
       "      <td>43715.0</td>\n",
       "      <td>10.816</td>\n",
       "      <td>5.787</td>\n",
       "      <td>11.0</td>\n",
       "      <td>NaN</td>\n",
       "      <td>NaN</td>\n",
       "      <td>NaN</td>\n",
       "      <td>NaN</td>\n",
       "      <td>...</td>\n",
       "      <td>0.70</td>\n",
       "      <td>NaN</td>\n",
       "      <td>75.724</td>\n",
       "      <td>81.000</td>\n",
       "      <td>112.091682</td>\n",
       "      <td>NaN</td>\n",
       "      <td>104.444443</td>\n",
       "      <td>NaN</td>\n",
       "      <td>2018</td>\n",
       "      <td>Antigua and Barbuda</td>\n",
       "    </tr>\n",
       "  </tbody>\n",
       "</table>\n",
       "<p>5 rows × 26 columns</p>\n",
       "</div>"
      ],
      "text/plain": [
       "   Total Population  Female Population  Male Population  Birth Rate  \\\n",
       "0           93763.0            48981.0          44782.0         NaN   \n",
       "1           93219.0            48709.0          44511.0      12.115   \n",
       "2           92664.0            48428.0          44236.0      12.160   \n",
       "3           92117.0            48156.0          43961.0      11.485   \n",
       "4           91626.0            47910.0          43715.0      10.816   \n",
       "\n",
       "   Death Rate  Compulsory Education Dur.  Employment in Industry(%)  \\\n",
       "0         NaN                       11.0                        NaN   \n",
       "1       6.365                       11.0                        NaN   \n",
       "2       5.961                       11.0                        NaN   \n",
       "3       5.865                       11.0                        NaN   \n",
       "4       5.787                       11.0                        NaN   \n",
       "\n",
       "   Employment in Agriculture(%)  Female Employment in Agriculture(%)  \\\n",
       "0                           NaN                                  NaN   \n",
       "1                           NaN                                  NaN   \n",
       "2                           NaN                                  NaN   \n",
       "3                           NaN                                  NaN   \n",
       "4                           NaN                                  NaN   \n",
       "\n",
       "   Female Employment in Industry(%)  ...  Renewable Energy Consumption (%)  \\\n",
       "0                               NaN  ...                               NaN   \n",
       "1                               NaN  ...                              0.72   \n",
       "2                               NaN  ...                              0.74   \n",
       "3                               NaN  ...                              0.69   \n",
       "4                               NaN  ...                              0.70   \n",
       "\n",
       "   Fossil Fuel Consumption (%)  Male life expectancy  Female life expectancy   \\\n",
       "0                          NaN                   NaN                      NaN   \n",
       "1                          NaN                75.775                   80.941   \n",
       "2                          NaN                76.061                   81.316   \n",
       "3                          NaN                75.909                   81.171   \n",
       "4                          NaN                75.724                   81.000   \n",
       "\n",
       "   School enrollment, primary  School enrollment, tertiary  \\\n",
       "0                         NaN                          NaN   \n",
       "1                         NaN                          NaN   \n",
       "2                         NaN                          NaN   \n",
       "3                  112.122238                          NaN   \n",
       "4                  112.091682                          NaN   \n",
       "\n",
       "   Primary completion rate  Literacy rate  Year              Country  \n",
       "0                      NaN            NaN  2022  Antigua and Barbuda  \n",
       "1                      NaN            NaN  2021  Antigua and Barbuda  \n",
       "2                      NaN            NaN  2020  Antigua and Barbuda  \n",
       "3               104.976669            NaN  2019  Antigua and Barbuda  \n",
       "4               104.444443            NaN  2018  Antigua and Barbuda  \n",
       "\n",
       "[5 rows x 26 columns]"
      ]
     },
     "execution_count": 21,
     "metadata": {},
     "output_type": "execute_result"
    }
   ],
   "source": [
    "# TEST\n",
    "raw_df.head()"
   ]
  },
  {
   "cell_type": "markdown",
   "metadata": {},
   "source": [
    "After remove features which have large missing values, our dataframe still have missing values. So that, we need to fill these missing values so that they can be used in analysis."
   ]
  },
  {
   "cell_type": "code",
   "execution_count": 22,
   "metadata": {},
   "outputs": [],
   "source": [
    "def filling_missing_value(df: pd.DataFrame) -> pd.DataFrame:\n",
    "    \"\"\"Filling missing features from Pandas dataframe\n",
    "    \n",
    "    The first, you need to replace all None values with NaN, fillna only works on nans.\n",
    "    \n",
    "    After that, you replace all NaN values with the mean of the column values.\n",
    "\n",
    "    Args:\n",
    "        df (pd.DataFrame): Input dataframe for processing.\n",
    "\n",
    "    Returns:\n",
    "        pd.DataFrame: Updated dataframe\n",
    "    \"\"\"\n",
    "    # YOUR CODE HERE\n",
    "    # raise NotImplementedError()\n",
    "    if (df is None):\n",
    "        print(f\"[LOG] Invalid.\")\n",
    "        raise ValueError\n",
    "    \n",
    "    # Create a copy of the dataframe to avoid changing the original\n",
    "    df_cp = df.copy()\n",
    "    \n",
    "    # Get the list of columns in the dataframe\n",
    "    cols_list = list(df_cp.columns)\n",
    "    \n",
    "    # Exclude the last column - Country, Year\n",
    "    cols_list.remove(\"Country\")\n",
    "    cols_list.remove(\"Year\")\n",
    "    \n",
    "    # Replace all None values with NaN, fillna only works on nans\n",
    "    df_cp.fillna(value=np.nan, inplace=True)\n",
    "    \n",
    "    # Replace all NaN values with the mean of the column values\n",
    "    for col in cols_list:\n",
    "        df_cp[col].fillna((df_cp[col].mean()), inplace=True)\n",
    "        \n",
    "    return df_cp\n",
    "    "
   ]
  },
  {
   "cell_type": "code",
   "execution_count": 23,
   "metadata": {},
   "outputs": [],
   "source": [
    "raw_df = filling_missing_value(df=raw_df)"
   ]
  },
  {
   "cell_type": "code",
   "execution_count": 24,
   "metadata": {},
   "outputs": [
    {
     "data": {
      "text/html": [
       "<div>\n",
       "<style scoped>\n",
       "    .dataframe tbody tr th:only-of-type {\n",
       "        vertical-align: middle;\n",
       "    }\n",
       "\n",
       "    .dataframe tbody tr th {\n",
       "        vertical-align: top;\n",
       "    }\n",
       "\n",
       "    .dataframe thead th {\n",
       "        text-align: right;\n",
       "    }\n",
       "</style>\n",
       "<table border=\"1\" class=\"dataframe\">\n",
       "  <thead>\n",
       "    <tr style=\"text-align: right;\">\n",
       "      <th></th>\n",
       "      <th>Total Population</th>\n",
       "      <th>Female Population</th>\n",
       "      <th>Male Population</th>\n",
       "      <th>Birth Rate</th>\n",
       "      <th>Death Rate</th>\n",
       "      <th>Compulsory Education Dur.</th>\n",
       "      <th>Employment in Industry(%)</th>\n",
       "      <th>Employment in Agriculture(%)</th>\n",
       "      <th>Female Employment in Agriculture(%)</th>\n",
       "      <th>Female Employment in Industry(%)</th>\n",
       "      <th>...</th>\n",
       "      <th>Renewable Energy Consumption (%)</th>\n",
       "      <th>Fossil Fuel Consumption (%)</th>\n",
       "      <th>Male life expectancy</th>\n",
       "      <th>Female life expectancy</th>\n",
       "      <th>School enrollment, primary</th>\n",
       "      <th>School enrollment, tertiary</th>\n",
       "      <th>Primary completion rate</th>\n",
       "      <th>Literacy rate</th>\n",
       "      <th>Year</th>\n",
       "      <th>Country</th>\n",
       "    </tr>\n",
       "  </thead>\n",
       "  <tbody>\n",
       "    <tr>\n",
       "      <th>0</th>\n",
       "      <td>93763.0</td>\n",
       "      <td>48981.0</td>\n",
       "      <td>44782.0</td>\n",
       "      <td>18.184992</td>\n",
       "      <td>6.828165</td>\n",
       "      <td>11.0</td>\n",
       "      <td>20.153997</td>\n",
       "      <td>17.004881</td>\n",
       "      <td>8.655858</td>\n",
       "      <td>11.81121</td>\n",
       "      <td>...</td>\n",
       "      <td>21.149982</td>\n",
       "      <td>63.452255</td>\n",
       "      <td>70.19852</td>\n",
       "      <td>76.07276</td>\n",
       "      <td>106.128710</td>\n",
       "      <td>39.528947</td>\n",
       "      <td>95.522408</td>\n",
       "      <td>97.105964</td>\n",
       "      <td>2022</td>\n",
       "      <td>Antigua and Barbuda</td>\n",
       "    </tr>\n",
       "    <tr>\n",
       "      <th>1</th>\n",
       "      <td>93219.0</td>\n",
       "      <td>48709.0</td>\n",
       "      <td>44511.0</td>\n",
       "      <td>12.115000</td>\n",
       "      <td>6.365000</td>\n",
       "      <td>11.0</td>\n",
       "      <td>20.153997</td>\n",
       "      <td>17.004881</td>\n",
       "      <td>8.655858</td>\n",
       "      <td>11.81121</td>\n",
       "      <td>...</td>\n",
       "      <td>0.720000</td>\n",
       "      <td>63.452255</td>\n",
       "      <td>75.77500</td>\n",
       "      <td>80.94100</td>\n",
       "      <td>106.128710</td>\n",
       "      <td>39.528947</td>\n",
       "      <td>95.522408</td>\n",
       "      <td>97.105964</td>\n",
       "      <td>2021</td>\n",
       "      <td>Antigua and Barbuda</td>\n",
       "    </tr>\n",
       "    <tr>\n",
       "      <th>2</th>\n",
       "      <td>92664.0</td>\n",
       "      <td>48428.0</td>\n",
       "      <td>44236.0</td>\n",
       "      <td>12.160000</td>\n",
       "      <td>5.961000</td>\n",
       "      <td>11.0</td>\n",
       "      <td>20.153997</td>\n",
       "      <td>17.004881</td>\n",
       "      <td>8.655858</td>\n",
       "      <td>11.81121</td>\n",
       "      <td>...</td>\n",
       "      <td>0.740000</td>\n",
       "      <td>63.452255</td>\n",
       "      <td>76.06100</td>\n",
       "      <td>81.31600</td>\n",
       "      <td>106.128710</td>\n",
       "      <td>39.528947</td>\n",
       "      <td>95.522408</td>\n",
       "      <td>97.105964</td>\n",
       "      <td>2020</td>\n",
       "      <td>Antigua and Barbuda</td>\n",
       "    </tr>\n",
       "    <tr>\n",
       "      <th>3</th>\n",
       "      <td>92117.0</td>\n",
       "      <td>48156.0</td>\n",
       "      <td>43961.0</td>\n",
       "      <td>11.485000</td>\n",
       "      <td>5.865000</td>\n",
       "      <td>11.0</td>\n",
       "      <td>20.153997</td>\n",
       "      <td>17.004881</td>\n",
       "      <td>8.655858</td>\n",
       "      <td>11.81121</td>\n",
       "      <td>...</td>\n",
       "      <td>0.690000</td>\n",
       "      <td>63.452255</td>\n",
       "      <td>75.90900</td>\n",
       "      <td>81.17100</td>\n",
       "      <td>112.122238</td>\n",
       "      <td>39.528947</td>\n",
       "      <td>104.976669</td>\n",
       "      <td>97.105964</td>\n",
       "      <td>2019</td>\n",
       "      <td>Antigua and Barbuda</td>\n",
       "    </tr>\n",
       "    <tr>\n",
       "      <th>4</th>\n",
       "      <td>91626.0</td>\n",
       "      <td>47910.0</td>\n",
       "      <td>43715.0</td>\n",
       "      <td>10.816000</td>\n",
       "      <td>5.787000</td>\n",
       "      <td>11.0</td>\n",
       "      <td>20.153997</td>\n",
       "      <td>17.004881</td>\n",
       "      <td>8.655858</td>\n",
       "      <td>11.81121</td>\n",
       "      <td>...</td>\n",
       "      <td>0.700000</td>\n",
       "      <td>63.452255</td>\n",
       "      <td>75.72400</td>\n",
       "      <td>81.00000</td>\n",
       "      <td>112.091682</td>\n",
       "      <td>39.528947</td>\n",
       "      <td>104.444443</td>\n",
       "      <td>97.105964</td>\n",
       "      <td>2018</td>\n",
       "      <td>Antigua and Barbuda</td>\n",
       "    </tr>\n",
       "  </tbody>\n",
       "</table>\n",
       "<p>5 rows × 26 columns</p>\n",
       "</div>"
      ],
      "text/plain": [
       "   Total Population  Female Population  Male Population  Birth Rate  \\\n",
       "0           93763.0            48981.0          44782.0   18.184992   \n",
       "1           93219.0            48709.0          44511.0   12.115000   \n",
       "2           92664.0            48428.0          44236.0   12.160000   \n",
       "3           92117.0            48156.0          43961.0   11.485000   \n",
       "4           91626.0            47910.0          43715.0   10.816000   \n",
       "\n",
       "   Death Rate  Compulsory Education Dur.  Employment in Industry(%)  \\\n",
       "0    6.828165                       11.0                  20.153997   \n",
       "1    6.365000                       11.0                  20.153997   \n",
       "2    5.961000                       11.0                  20.153997   \n",
       "3    5.865000                       11.0                  20.153997   \n",
       "4    5.787000                       11.0                  20.153997   \n",
       "\n",
       "   Employment in Agriculture(%)  Female Employment in Agriculture(%)  \\\n",
       "0                     17.004881                             8.655858   \n",
       "1                     17.004881                             8.655858   \n",
       "2                     17.004881                             8.655858   \n",
       "3                     17.004881                             8.655858   \n",
       "4                     17.004881                             8.655858   \n",
       "\n",
       "   Female Employment in Industry(%)  ...  Renewable Energy Consumption (%)  \\\n",
       "0                          11.81121  ...                         21.149982   \n",
       "1                          11.81121  ...                          0.720000   \n",
       "2                          11.81121  ...                          0.740000   \n",
       "3                          11.81121  ...                          0.690000   \n",
       "4                          11.81121  ...                          0.700000   \n",
       "\n",
       "   Fossil Fuel Consumption (%)  Male life expectancy  Female life expectancy   \\\n",
       "0                    63.452255              70.19852                 76.07276   \n",
       "1                    63.452255              75.77500                 80.94100   \n",
       "2                    63.452255              76.06100                 81.31600   \n",
       "3                    63.452255              75.90900                 81.17100   \n",
       "4                    63.452255              75.72400                 81.00000   \n",
       "\n",
       "   School enrollment, primary  School enrollment, tertiary  \\\n",
       "0                  106.128710                    39.528947   \n",
       "1                  106.128710                    39.528947   \n",
       "2                  106.128710                    39.528947   \n",
       "3                  112.122238                    39.528947   \n",
       "4                  112.091682                    39.528947   \n",
       "\n",
       "   Primary completion rate  Literacy rate  Year              Country  \n",
       "0                95.522408      97.105964  2022  Antigua and Barbuda  \n",
       "1                95.522408      97.105964  2021  Antigua and Barbuda  \n",
       "2                95.522408      97.105964  2020  Antigua and Barbuda  \n",
       "3               104.976669      97.105964  2019  Antigua and Barbuda  \n",
       "4               104.444443      97.105964  2018  Antigua and Barbuda  \n",
       "\n",
       "[5 rows x 26 columns]"
      ]
     },
     "execution_count": 24,
     "metadata": {},
     "output_type": "execute_result"
    }
   ],
   "source": [
    "# TEST\n",
    "raw_df.head()"
   ]
  },
  {
   "cell_type": "code",
   "execution_count": 25,
   "metadata": {},
   "outputs": [
    {
     "data": {
      "text/html": [
       "<div>\n",
       "<style scoped>\n",
       "    .dataframe tbody tr th:only-of-type {\n",
       "        vertical-align: middle;\n",
       "    }\n",
       "\n",
       "    .dataframe tbody tr th {\n",
       "        vertical-align: top;\n",
       "    }\n",
       "\n",
       "    .dataframe thead th {\n",
       "        text-align: right;\n",
       "    }\n",
       "</style>\n",
       "<table border=\"1\" class=\"dataframe\">\n",
       "  <thead>\n",
       "    <tr style=\"text-align: right;\">\n",
       "      <th></th>\n",
       "      <th>Total Population</th>\n",
       "      <th>Female Population</th>\n",
       "      <th>Male Population</th>\n",
       "      <th>Birth Rate</th>\n",
       "      <th>Death Rate</th>\n",
       "      <th>Compulsory Education Dur.</th>\n",
       "      <th>Employment in Industry(%)</th>\n",
       "      <th>Employment in Agriculture(%)</th>\n",
       "      <th>Female Employment in Agriculture(%)</th>\n",
       "      <th>Female Employment in Industry(%)</th>\n",
       "      <th>...</th>\n",
       "      <th>Agriculture value added(in USD)</th>\n",
       "      <th>Electric Power Consumption(kWH per capita)</th>\n",
       "      <th>Renewable Energy Consumption (%)</th>\n",
       "      <th>Fossil Fuel Consumption (%)</th>\n",
       "      <th>Male life expectancy</th>\n",
       "      <th>Female life expectancy</th>\n",
       "      <th>School enrollment, primary</th>\n",
       "      <th>School enrollment, tertiary</th>\n",
       "      <th>Primary completion rate</th>\n",
       "      <th>Literacy rate</th>\n",
       "    </tr>\n",
       "  </thead>\n",
       "  <tbody>\n",
       "    <tr>\n",
       "      <th>missing_ratio</th>\n",
       "      <td>0.0</td>\n",
       "      <td>0.0</td>\n",
       "      <td>0.0</td>\n",
       "      <td>0.000</td>\n",
       "      <td>0.000</td>\n",
       "      <td>0.0</td>\n",
       "      <td>0.00000</td>\n",
       "      <td>0.000000</td>\n",
       "      <td>0.000000</td>\n",
       "      <td>0.000000</td>\n",
       "      <td>...</td>\n",
       "      <td>0.000000e+00</td>\n",
       "      <td>0.000000</td>\n",
       "      <td>0.00</td>\n",
       "      <td>0.000000</td>\n",
       "      <td>0.000</td>\n",
       "      <td>0.000</td>\n",
       "      <td>0.000000</td>\n",
       "      <td>0.00000</td>\n",
       "      <td>0.000000</td>\n",
       "      <td>0.000000</td>\n",
       "    </tr>\n",
       "    <tr>\n",
       "      <th>min</th>\n",
       "      <td>15101.0</td>\n",
       "      <td>7337.0</td>\n",
       "      <td>7765.0</td>\n",
       "      <td>5.900</td>\n",
       "      <td>2.800</td>\n",
       "      <td>6.0</td>\n",
       "      <td>10.38677</td>\n",
       "      <td>1.128129</td>\n",
       "      <td>0.094002</td>\n",
       "      <td>3.099745</td>\n",
       "      <td>...</td>\n",
       "      <td>3.486034e+05</td>\n",
       "      <td>23.915832</td>\n",
       "      <td>0.00</td>\n",
       "      <td>0.000000</td>\n",
       "      <td>45.758</td>\n",
       "      <td>46.251</td>\n",
       "      <td>72.597130</td>\n",
       "      <td>0.11737</td>\n",
       "      <td>46.638149</td>\n",
       "      <td>72.346718</td>\n",
       "    </tr>\n",
       "    <tr>\n",
       "      <th>lower_quartile</th>\n",
       "      <td>109166.0</td>\n",
       "      <td>56456.5</td>\n",
       "      <td>55542.5</td>\n",
       "      <td>13.800</td>\n",
       "      <td>5.600</td>\n",
       "      <td>9.0</td>\n",
       "      <td>18.70000</td>\n",
       "      <td>10.700000</td>\n",
       "      <td>3.900000</td>\n",
       "      <td>9.500000</td>\n",
       "      <td>...</td>\n",
       "      <td>1.035674e+08</td>\n",
       "      <td>1868.900000</td>\n",
       "      <td>5.20</td>\n",
       "      <td>63.500000</td>\n",
       "      <td>68.200</td>\n",
       "      <td>74.100</td>\n",
       "      <td>102.400000</td>\n",
       "      <td>37.80000</td>\n",
       "      <td>95.500000</td>\n",
       "      <td>97.100000</td>\n",
       "    </tr>\n",
       "    <tr>\n",
       "      <th>median</th>\n",
       "      <td>3422497.0</td>\n",
       "      <td>1764234.5</td>\n",
       "      <td>1658095.5</td>\n",
       "      <td>17.600</td>\n",
       "      <td>6.800</td>\n",
       "      <td>11.0</td>\n",
       "      <td>20.20000</td>\n",
       "      <td>17.000000</td>\n",
       "      <td>8.300000</td>\n",
       "      <td>11.800000</td>\n",
       "      <td>...</td>\n",
       "      <td>1.505479e+09</td>\n",
       "      <td>2620.200000</td>\n",
       "      <td>16.70</td>\n",
       "      <td>63.500000</td>\n",
       "      <td>70.200</td>\n",
       "      <td>76.200</td>\n",
       "      <td>106.100000</td>\n",
       "      <td>39.50000</td>\n",
       "      <td>95.500000</td>\n",
       "      <td>97.100000</td>\n",
       "    </tr>\n",
       "    <tr>\n",
       "      <th>upper_quartile</th>\n",
       "      <td>11949081.0</td>\n",
       "      <td>5975354.5</td>\n",
       "      <td>5995499.0</td>\n",
       "      <td>22.000</td>\n",
       "      <td>7.800</td>\n",
       "      <td>12.0</td>\n",
       "      <td>21.90000</td>\n",
       "      <td>19.700000</td>\n",
       "      <td>8.700000</td>\n",
       "      <td>12.400000</td>\n",
       "      <td>...</td>\n",
       "      <td>9.465944e+09</td>\n",
       "      <td>2620.200000</td>\n",
       "      <td>31.40</td>\n",
       "      <td>69.800000</td>\n",
       "      <td>73.000</td>\n",
       "      <td>78.900</td>\n",
       "      <td>109.800000</td>\n",
       "      <td>39.50000</td>\n",
       "      <td>97.900000</td>\n",
       "      <td>97.100000</td>\n",
       "    </tr>\n",
       "    <tr>\n",
       "      <th>max</th>\n",
       "      <td>333287557.0</td>\n",
       "      <td>168266219.0</td>\n",
       "      <td>165021339.0</td>\n",
       "      <td>37.349</td>\n",
       "      <td>17.738</td>\n",
       "      <td>17.0</td>\n",
       "      <td>32.26668</td>\n",
       "      <td>52.982150</td>\n",
       "      <td>42.189880</td>\n",
       "      <td>27.820870</td>\n",
       "      <td>...</td>\n",
       "      <td>2.237237e+11</td>\n",
       "      <td>17264.736744</td>\n",
       "      <td>86.99</td>\n",
       "      <td>99.929949</td>\n",
       "      <td>80.621</td>\n",
       "      <td>85.855</td>\n",
       "      <td>148.712952</td>\n",
       "      <td>117.71994</td>\n",
       "      <td>152.806656</td>\n",
       "      <td>100.000000</td>\n",
       "    </tr>\n",
       "  </tbody>\n",
       "</table>\n",
       "<p>6 rows × 24 columns</p>\n",
       "</div>"
      ],
      "text/plain": [
       "                Total Population  Female Population  Male Population  \\\n",
       "missing_ratio                0.0                0.0              0.0   \n",
       "min                      15101.0             7337.0           7765.0   \n",
       "lower_quartile          109166.0            56456.5          55542.5   \n",
       "median                 3422497.0          1764234.5        1658095.5   \n",
       "upper_quartile        11949081.0          5975354.5        5995499.0   \n",
       "max                  333287557.0        168266219.0      165021339.0   \n",
       "\n",
       "                Birth Rate  Death Rate  Compulsory Education Dur.  \\\n",
       "missing_ratio        0.000       0.000                        0.0   \n",
       "min                  5.900       2.800                        6.0   \n",
       "lower_quartile      13.800       5.600                        9.0   \n",
       "median              17.600       6.800                       11.0   \n",
       "upper_quartile      22.000       7.800                       12.0   \n",
       "max                 37.349      17.738                       17.0   \n",
       "\n",
       "                Employment in Industry(%)  Employment in Agriculture(%)  \\\n",
       "missing_ratio                     0.00000                      0.000000   \n",
       "min                              10.38677                      1.128129   \n",
       "lower_quartile                   18.70000                     10.700000   \n",
       "median                           20.20000                     17.000000   \n",
       "upper_quartile                   21.90000                     19.700000   \n",
       "max                              32.26668                     52.982150   \n",
       "\n",
       "                Female Employment in Agriculture(%)  \\\n",
       "missing_ratio                              0.000000   \n",
       "min                                        0.094002   \n",
       "lower_quartile                             3.900000   \n",
       "median                                     8.300000   \n",
       "upper_quartile                             8.700000   \n",
       "max                                       42.189880   \n",
       "\n",
       "                Female Employment in Industry(%)  ...  \\\n",
       "missing_ratio                           0.000000  ...   \n",
       "min                                     3.099745  ...   \n",
       "lower_quartile                          9.500000  ...   \n",
       "median                                 11.800000  ...   \n",
       "upper_quartile                         12.400000  ...   \n",
       "max                                    27.820870  ...   \n",
       "\n",
       "                Agriculture value added(in USD)  \\\n",
       "missing_ratio                      0.000000e+00   \n",
       "min                                3.486034e+05   \n",
       "lower_quartile                     1.035674e+08   \n",
       "median                             1.505479e+09   \n",
       "upper_quartile                     9.465944e+09   \n",
       "max                                2.237237e+11   \n",
       "\n",
       "                Electric Power Consumption(kWH per capita)  \\\n",
       "missing_ratio                                     0.000000   \n",
       "min                                              23.915832   \n",
       "lower_quartile                                 1868.900000   \n",
       "median                                         2620.200000   \n",
       "upper_quartile                                 2620.200000   \n",
       "max                                           17264.736744   \n",
       "\n",
       "                Renewable Energy Consumption (%)  Fossil Fuel Consumption (%)  \\\n",
       "missing_ratio                               0.00                     0.000000   \n",
       "min                                         0.00                     0.000000   \n",
       "lower_quartile                              5.20                    63.500000   \n",
       "median                                     16.70                    63.500000   \n",
       "upper_quartile                             31.40                    69.800000   \n",
       "max                                        86.99                    99.929949   \n",
       "\n",
       "                Male life expectancy  Female life expectancy   \\\n",
       "missing_ratio                  0.000                    0.000   \n",
       "min                           45.758                   46.251   \n",
       "lower_quartile                68.200                   74.100   \n",
       "median                        70.200                   76.200   \n",
       "upper_quartile                73.000                   78.900   \n",
       "max                           80.621                   85.855   \n",
       "\n",
       "                School enrollment, primary  School enrollment, tertiary  \\\n",
       "missing_ratio                     0.000000                      0.00000   \n",
       "min                              72.597130                      0.11737   \n",
       "lower_quartile                  102.400000                     37.80000   \n",
       "median                          106.100000                     39.50000   \n",
       "upper_quartile                  109.800000                     39.50000   \n",
       "max                             148.712952                    117.71994   \n",
       "\n",
       "                Primary completion rate  Literacy rate  \n",
       "missing_ratio                  0.000000       0.000000  \n",
       "min                           46.638149      72.346718  \n",
       "lower_quartile                95.500000      97.100000  \n",
       "median                        95.500000      97.100000  \n",
       "upper_quartile                97.900000      97.100000  \n",
       "max                          152.806656     100.000000  \n",
       "\n",
       "[6 rows x 24 columns]"
      ]
     },
     "execution_count": 25,
     "metadata": {},
     "output_type": "execute_result"
    }
   ],
   "source": [
    "# TEST\n",
    "raw_df.select_dtypes(exclude='object').agg([missing_ratio, \"min\", lower_quartile, median, upper_quartile, \"max\"])"
   ]
  },
  {
   "cell_type": "markdown",
   "metadata": {},
   "source": [
    "### For each column with a non-numeric data type, how are the values distributed?(1đ)"
   ]
  },
  {
   "cell_type": "markdown",
   "metadata": {},
   "source": [
    "For columns with non-numeric data types, you calculate:\n",
    "- Percentage (from 0 to 100) of missing values\n",
    "- Number of values (the values here are different values and we do not consider missing values): with columns whose type is categorical, it is a set with a finite number of categories. Directly counting the number of values in these columns doesn't make much sense, so it's better to count the number of elements of all types. (Số lượng các giá trị (các giá trị ở đây là các giá trị khác nhau và ta không xét giá trị thiếu): với cột mà có kiểu là categorical, nó là một tập hợp có số lượng hữu hạn các loại. Việc đếm trực tiếp số lượng các giá trị trong những cột này không có nhiều ý nghĩa, nên tốt hơn hết là mà sẽ đếm số lượng phần tử các loại.)\n",
    "- The percentage (from 0 to 100) of each value is sorted by decreasing percentage (we do not consider missing values, the ratio is the ratio compared to the number of non-missing values): you use a dictionary to store , key is the value, value is the percentage; With the column corresponding to each type, the method is similar to above.\n",
    "\n",
    "You will save the results to DataFrame `cat_col_info_df`, where:\n",
    "- The names of the columns are the names of the non-numeric columns in `raw_df`\n",
    "- The names of the lines are: \"missing_ratio\", \"num_values\", \"value_ratios\"\n",
    "\n",
    "For ease of viewing, you round all values to 1 decimal place using the `.round(1)` method.\n",
    "\n",
    "Hint: you might want to use it [`explode` method](https://pandas.pydata.org/pandas-docs/stable/reference/api/pandas.Series.explode.html)."
   ]
  },
  {
   "cell_type": "code",
   "execution_count": 26,
   "metadata": {},
   "outputs": [],
   "source": [
    "pd.set_option('display.max_colwidth', 100) # For clearly\n",
    "pd.set_option('display.max_columns', None) # For clearly"
   ]
  },
  {
   "cell_type": "code",
   "execution_count": 27,
   "metadata": {},
   "outputs": [
    {
     "data": {
      "text/html": [
       "<div>\n",
       "<style scoped>\n",
       "    .dataframe tbody tr th:only-of-type {\n",
       "        vertical-align: middle;\n",
       "    }\n",
       "\n",
       "    .dataframe tbody tr th {\n",
       "        vertical-align: top;\n",
       "    }\n",
       "\n",
       "    .dataframe thead th {\n",
       "        text-align: right;\n",
       "    }\n",
       "</style>\n",
       "<table border=\"1\" class=\"dataframe\">\n",
       "  <thead>\n",
       "    <tr style=\"text-align: right;\">\n",
       "      <th></th>\n",
       "      <th>Year</th>\n",
       "      <th>Country</th>\n",
       "    </tr>\n",
       "  </thead>\n",
       "  <tbody>\n",
       "    <tr>\n",
       "      <th>missing_ratio</th>\n",
       "      <td>0.0</td>\n",
       "      <td>0.0</td>\n",
       "    </tr>\n",
       "    <tr>\n",
       "      <th>num_values</th>\n",
       "      <td>28</td>\n",
       "      <td>43</td>\n",
       "    </tr>\n",
       "    <tr>\n",
       "      <th>value_ratios</th>\n",
       "      <td>{'2022': 3.6, '2021': 3.6, '2020': 3.6, '2019': 3.6, '2018': 3.6, '2017': 3.6, '2016': 3.6, '201...</td>\n",
       "      <td>{'Antigua and Barbuda': 2.3, 'Argentina': 2.3, 'Aruba': 2.3, 'Bahamas, The': 2.3, 'Barbados': 2....</td>\n",
       "    </tr>\n",
       "  </tbody>\n",
       "</table>\n",
       "</div>"
      ],
      "text/plain": [
       "                                                                                                              Year  \\\n",
       "missing_ratio                                                                                                  0.0   \n",
       "num_values                                                                                                      28   \n",
       "value_ratios   {'2022': 3.6, '2021': 3.6, '2020': 3.6, '2019': 3.6, '2018': 3.6, '2017': 3.6, '2016': 3.6, '201...   \n",
       "\n",
       "                                                                                                           Country  \n",
       "missing_ratio                                                                                                  0.0  \n",
       "num_values                                                                                                      43  \n",
       "value_ratios   {'Antigua and Barbuda': 2.3, 'Argentina': 2.3, 'Aruba': 2.3, 'Bahamas, The': 2.3, 'Barbados': 2....  "
      ]
     },
     "execution_count": 27,
     "metadata": {},
     "output_type": "execute_result"
    }
   ],
   "source": [
    "# YOUR CODE HERE\n",
    "cat_col_info_df = raw_df.select_dtypes(include='object')\n",
    "\n",
    "def missing_ratio(s):\n",
    "    # raise NotImplementedError()\n",
    "    return (s.isna().mean() * 100).round(1)\n",
    "\n",
    "def num_values(s):\n",
    "    # raise NotImplementedError()\n",
    "    s = s.str.split(';')\n",
    "    s = s.explode()\n",
    "    return len(s.value_counts())\n",
    "\n",
    "def value_ratios(s):\n",
    "    # raise NotImplementedError()\n",
    "    s = s.str.split(';')\n",
    "    s = s.explode()\n",
    "    totalCount = (~s.isna()).sum()\n",
    "    return ((s.value_counts()/totalCount*100).round(1)).to_dict()\n",
    "\n",
    "cat_col_info_df = cat_col_info_df.agg([missing_ratio, num_values, value_ratios])\n",
    "cat_col_info_df"
   ]
  },
  {
   "cell_type": "code",
   "execution_count": 28,
   "metadata": {},
   "outputs": [],
   "source": [
    "# YOUR CODE HERE (Optional)\n",
    "# You can use Matplotlib to visualize this table for more intuitive"
   ]
  },
  {
   "cell_type": "markdown",
   "metadata": {},
   "source": [
    "### Is the collected data reasonable? (0.5 points)"
   ]
  },
  {
   "cell_type": "markdown",
   "metadata": {},
   "source": [
    "Chúng ta có một thắc mắc liệu rằng số liệu thu thập được có hợp lý hay không? Ví dụ như `Total Population` có bằng tổng của `Female Population` và `Male Population`?"
   ]
  },
  {
   "cell_type": "code",
   "execution_count": 29,
   "metadata": {},
   "outputs": [],
   "source": [
    "def checking_population(df: pd.DataFrame) -> bool:\n",
    "    \"\"\"Checking for the reasonable of population information.\n",
    "\n",
    "    Args:\n",
    "        df (pd.DataFrame): _description_\n",
    "\n",
    "    Returns:\n",
    "        bool: _description_\n",
    "    \"\"\"\n",
    "    # YOUR CODE HERE\n",
    "    # raise NotImplementedError()\n",
    "    return df[\"Total Population\"].equals((df[\"Female Population\"] + df[\"Male Population\"]))"
   ]
  },
  {
   "cell_type": "code",
   "execution_count": 30,
   "metadata": {},
   "outputs": [
    {
     "data": {
      "text/plain": [
       "False"
      ]
     },
     "execution_count": 30,
     "metadata": {},
     "output_type": "execute_result"
    }
   ],
   "source": [
    "# TEST\n",
    "checking_population(raw_df) == True"
   ]
  },
  {
   "cell_type": "markdown",
   "metadata": {},
   "source": [
    "If the test result is false, we want to see how large with this different? If it is true, please skip this step."
   ]
  },
  {
   "cell_type": "code",
   "execution_count": 31,
   "metadata": {},
   "outputs": [
    {
     "data": {
      "text/plain": [
       "2.0"
      ]
     },
     "execution_count": 31,
     "metadata": {},
     "output_type": "execute_result"
    }
   ],
   "source": [
    "sum(raw_df[\"Total Population\"] - (raw_df[\"Female Population\"] + raw_df[\"Male Population\"]))"
   ]
  },
  {
   "cell_type": "markdown",
   "metadata": {},
   "source": [
    "Let's replace column `Female Population` with the result of difference of `Total Population` and `Male Population` or otherwise."
   ]
  },
  {
   "cell_type": "code",
   "execution_count": 32,
   "metadata": {},
   "outputs": [],
   "source": [
    "raw_df[\"Female Population\"] = raw_df[\"Total Population\"] - raw_df[\"Male Population\"]"
   ]
  },
  {
   "cell_type": "code",
   "execution_count": 33,
   "metadata": {},
   "outputs": [
    {
     "data": {
      "text/plain": [
       "True"
      ]
     },
     "execution_count": 33,
     "metadata": {},
     "output_type": "execute_result"
    }
   ],
   "source": [
    "# TEST\n",
    "checking_population(raw_df) == True"
   ]
  },
  {
   "cell_type": "markdown",
   "metadata": {},
   "source": [
    "**Can you check more cases for the reasonable of raw data?**"
   ]
  },
  {
   "cell_type": "code",
   "execution_count": 34,
   "metadata": {},
   "outputs": [],
   "source": [
    "# YOUR CODE HERE (Optional)"
   ]
  },
  {
   "cell_type": "markdown",
   "metadata": {},
   "source": [
    "### Save your processed data (0.25 points)"
   ]
  },
  {
   "cell_type": "code",
   "execution_count": 35,
   "metadata": {},
   "outputs": [
    {
     "name": "stdout",
     "output_type": "stream",
     "text": [
      "Total number of features: 26\n"
     ]
    },
    {
     "data": {
      "text/plain": [
       "Total Population                              float64\n",
       "Female Population                             float64\n",
       "Male Population                               float64\n",
       "Birth Rate                                    float64\n",
       "Death Rate                                    float64\n",
       "Compulsory Education Dur.                     float64\n",
       "Employment in Industry(%)                     float64\n",
       "Employment in Agriculture(%)                  float64\n",
       "Female Employment in Agriculture(%)           float64\n",
       "Female Employment in Industry(%)              float64\n",
       "Unemployment(%)                               float64\n",
       "GDP in USD                                    float64\n",
       "National Income per Capita                    float64\n",
       "Net income from Abroad                        float64\n",
       "Agriculture value added(in USD)               float64\n",
       "Electric Power Consumption(kWH per capita)    float64\n",
       "Renewable Energy Consumption (%)              float64\n",
       "Fossil Fuel Consumption (%)                   float64\n",
       "Male life expectancy                          float64\n",
       "Female life expectancy                        float64\n",
       "School enrollment, primary                    float64\n",
       "School enrollment, tertiary                   float64\n",
       "Primary completion rate                       float64\n",
       "Literacy rate                                 float64\n",
       "Year                                           object\n",
       "Country                                        object\n",
       "dtype: object"
      ]
     },
     "execution_count": 35,
     "metadata": {},
     "output_type": "execute_result"
    }
   ],
   "source": [
    "print(f\"Total number of features: {raw_df.shape[1]}\")\n",
    "raw_df.dtypes"
   ]
  },
  {
   "cell_type": "code",
   "execution_count": 36,
   "metadata": {},
   "outputs": [],
   "source": [
    "# YOUR CODE HERE\n",
    "# You can set the saved name in a pattern like, studentID_<your continent>_processed.csv\n",
    "studentID = 21127503\n",
    "your_continent = \"americas\"\n",
    "save_name = \"_\".join([str(studentID), str(your_continent)]) + \"_processed.csv\"\n",
    "raw_df.to_csv(\"../data/processed/\" + save_name, index=False)"
   ]
  },
  {
   "cell_type": "markdown",
   "metadata": {},
   "source": [
    "**Congrats, if you complete this notebook, you will get 4.00/10.00 :D**"
   ]
  }
 ],
 "metadata": {
  "kernelspec": {
   "display_name": "Python 3 (ipykernel)",
   "language": "python",
   "name": "python3"
  },
  "language_info": {
   "codemirror_mode": {
    "name": "ipython",
    "version": 3
   },
   "file_extension": ".py",
   "mimetype": "text/x-python",
   "name": "python",
   "nbconvert_exporter": "python",
   "pygments_lexer": "ipython3",
   "version": "3.9.18"
  }
 },
 "nbformat": 4,
 "nbformat_minor": 4
}
